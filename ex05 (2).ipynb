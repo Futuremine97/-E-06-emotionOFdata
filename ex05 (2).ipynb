{
 "cells": [
  {
   "cell_type": "code",
   "execution_count": 19,
   "id": "cce14ee3",
   "metadata": {},
   "outputs": [
    {
     "data": {
      "text/html": [
       "<div>\n",
       "<style scoped>\n",
       "    .dataframe tbody tr th:only-of-type {\n",
       "        vertical-align: middle;\n",
       "    }\n",
       "\n",
       "    .dataframe tbody tr th {\n",
       "        vertical-align: top;\n",
       "    }\n",
       "\n",
       "    .dataframe thead th {\n",
       "        text-align: right;\n",
       "    }\n",
       "</style>\n",
       "<table border=\"1\" class=\"dataframe\">\n",
       "  <thead>\n",
       "    <tr style=\"text-align: right;\">\n",
       "      <th></th>\n",
       "      <th>id</th>\n",
       "      <th>document</th>\n",
       "      <th>label</th>\n",
       "    </tr>\n",
       "  </thead>\n",
       "  <tbody>\n",
       "    <tr>\n",
       "      <th>0</th>\n",
       "      <td>9976970</td>\n",
       "      <td>아 더빙.. 진짜 짜증나네요 목소리</td>\n",
       "      <td>0</td>\n",
       "    </tr>\n",
       "    <tr>\n",
       "      <th>1</th>\n",
       "      <td>3819312</td>\n",
       "      <td>흠...포스터보고 초딩영화줄....오버연기조차 가볍지 않구나</td>\n",
       "      <td>1</td>\n",
       "    </tr>\n",
       "    <tr>\n",
       "      <th>2</th>\n",
       "      <td>10265843</td>\n",
       "      <td>너무재밓었다그래서보는것을추천한다</td>\n",
       "      <td>0</td>\n",
       "    </tr>\n",
       "    <tr>\n",
       "      <th>3</th>\n",
       "      <td>9045019</td>\n",
       "      <td>교도소 이야기구먼 ..솔직히 재미는 없다..평점 조정</td>\n",
       "      <td>0</td>\n",
       "    </tr>\n",
       "    <tr>\n",
       "      <th>4</th>\n",
       "      <td>6483659</td>\n",
       "      <td>사이몬페그의 익살스런 연기가 돋보였던 영화!스파이더맨에서 늙어보이기만 했던 커스틴 ...</td>\n",
       "      <td>1</td>\n",
       "    </tr>\n",
       "  </tbody>\n",
       "</table>\n",
       "</div>"
      ],
      "text/plain": [
       "         id                                           document  label\n",
       "0   9976970                                아 더빙.. 진짜 짜증나네요 목소리      0\n",
       "1   3819312                  흠...포스터보고 초딩영화줄....오버연기조차 가볍지 않구나      1\n",
       "2  10265843                                  너무재밓었다그래서보는것을추천한다      0\n",
       "3   9045019                      교도소 이야기구먼 ..솔직히 재미는 없다..평점 조정      0\n",
       "4   6483659  사이몬페그의 익살스런 연기가 돋보였던 영화!스파이더맨에서 늙어보이기만 했던 커스틴 ...      1"
      ]
     },
     "execution_count": 19,
     "metadata": {},
     "output_type": "execute_result"
    }
   ],
   "source": [
    "import pandas as pd\n",
    "\n",
    "# 데이터를 읽어봅시다. \n",
    "train_data = pd.read_table('~/aiffel/sentiment_classification/data/ratings_train.txt')\n",
    "test_data = pd.read_table('~/aiffel/sentiment_classification/data/ratings_test.txt')\n",
    "\n",
    "train_data.head()"
   ]
  },
  {
   "cell_type": "code",
   "execution_count": 20,
   "id": "75565305",
   "metadata": {},
   "outputs": [],
   "source": [
    "from konlpy.tag import Mecab\n",
    "import numpy as np\n",
    "from collections import Counter\n",
    "\n",
    "tokenizer = Mecab()\n",
    "stopwords = ['의','가','이','은','들','는','좀','잘','걍','과','도','를','으로','자','에','와','한','하다']\n",
    "\n",
    "def load_data(train_data, test_data, num_words=10000):\n",
    "    train_data.drop_duplicates(subset=['document'], inplace=True)\n",
    "    train_data = train_data.dropna(how = 'any') \n",
    "    test_data.drop_duplicates(subset=['document'], inplace=True)\n",
    "    test_data = test_data.dropna(how = 'any') \n",
    "    \n",
    "    X_train = []\n",
    "    for sentence in train_data['document']:\n",
    "        temp_X = tokenizer.morphs(sentence) # 토큰화\n",
    "        temp_X = [word for word in temp_X if not word in stopwords] # 불용어 제거\n",
    "        X_train.append(temp_X)\n",
    "\n",
    "    X_test = []\n",
    "    for sentence in test_data['document']:\n",
    "        temp_X = tokenizer.morphs(sentence) # 토큰화\n",
    "        temp_X = [word for word in temp_X if not word in stopwords] # 불용어 제거\n",
    "        X_test.append(temp_X)\n",
    "    \n",
    "    words = np.concatenate(X_train).tolist()\n",
    "    counter = Counter(words)\n",
    "    counter = counter.most_common(10000-4)\n",
    "    vocab = ['', '', '', ''] + [key for key, _ in counter]\n",
    "    word_to_index = {word:index for index, word in enumerate(vocab)}\n",
    "        \n",
    "    def wordlist_to_indexlist(wordlist):\n",
    "        return [word_to_index[word] if word in word_to_index else word_to_index[''] for word in wordlist]\n",
    "        \n",
    "    X_train = list(map(wordlist_to_indexlist, X_train))\n",
    "    X_test = list(map(wordlist_to_indexlist, X_test))\n",
    "        \n",
    "    return X_train, np.array(list(train_data['label'])), X_test, np.array(list(test_data['label'])), word_to_index\n",
    "    \n",
    "X_train, y_train, X_test, y_test, word_to_index = load_data(train_data, test_data)"
   ]
  },
  {
   "cell_type": "code",
   "execution_count": 21,
   "id": "9c127b36",
   "metadata": {},
   "outputs": [
    {
     "name": "stdout",
     "output_type": "stream",
     "text": [
      "고\n"
     ]
    }
   ],
   "source": [
    "index_to_word = {index:word for word, index in word_to_index.items()}\n",
    "print(index_to_word[7])"
   ]
  },
  {
   "cell_type": "code",
   "execution_count": 27,
   "id": "fc7d9943",
   "metadata": {},
   "outputs": [
    {
     "name": "stdout",
     "output_type": "stream",
     "text": [
      "<굳>\n",
      "496\n",
      "<떽>\n"
     ]
    }
   ],
   "source": [
    "#실제 인코딩 인덱스는 제공된 word_to_index에서 index 기준으로 3씩 뒤로 밀려 있습니다.  \n",
    "word_to_index = {k:(v+3) for k,v in word_to_index.items()}\n",
    "\n",
    "# 처음 몇 개 인덱스는 사전에 정의되어 있습니다\n",
    "word_to_index[\"<PAD>\"] = 0\n",
    "word_to_index[\"<굳>\"] = 1\n",
    "word_to_index[\"<떽>\"] = 2  # unknown\n",
    "word_to_index[\"<라>\"] = 3\n",
    "\n",
    "index_to_word = {index:word for word, index in word_to_index.items()}\n",
    "\n",
    "print(index_to_word[1])     # '<BOS>' 가 출력됩니다. \n",
    "print(word_to_index['오늘'])  # 4 이 출력됩니다. \n",
    "print(index_to_word[2])     # 'the' 가 출력됩니다."
   ]
  },
  {
   "cell_type": "code",
   "execution_count": 28,
   "id": "c0d0794c",
   "metadata": {},
   "outputs": [
    {
     "name": "stdout",
     "output_type": "stream",
     "text": [
      "문장길이 평균 :  15.96940191154864\n",
      "문장길이 최대 :  116\n",
      "문장길이 표준편차 :  12.843571191092\n",
      "pad_sequences maxlen :  41\n",
      "전체 문장의 0.9342988343341575%가 maxlen 설정값 이내에 포함됩니다. \n"
     ]
    }
   ],
   "source": [
    "total_data_text = list(X_train) + list(X_test)\n",
    "# 텍스트데이터 문장길이의 리스트를 생성한 후\n",
    "num_tokens = [len(tokens) for tokens in total_data_text]\n",
    "num_tokens = np.array(num_tokens)\n",
    "# 문장길이의 평균값, 최대값, 표준편차를 계산해 본다. \n",
    "print('문장길이 평균 : ', np.mean(num_tokens))\n",
    "print('문장길이 최대 : ', np.max(num_tokens))\n",
    "print('문장길이 표준편차 : ', np.std(num_tokens))\n",
    "\n",
    "# 예를들어, 최대 길이를 (평균 + 2*표준편차)로 한다면,  \n",
    "max_tokens = np.mean(num_tokens) + 2 * np.std(num_tokens)\n",
    "maxlen = int(max_tokens)\n",
    "print('pad_sequences maxlen : ', maxlen)\n",
    "print('전체 문장의 {}%가 maxlen 설정값 이내에 포함됩니다. '.format(np.sum(num_tokens < max_tokens) / len(num_tokens)))"
   ]
  },
  {
   "cell_type": "code",
   "execution_count": 29,
   "id": "50eca6c4",
   "metadata": {},
   "outputs": [
    {
     "name": "stdout",
     "output_type": "stream",
     "text": [
      "(146182, 41)\n"
     ]
    }
   ],
   "source": [
    "\n",
    "import numpy as np\n",
    "import tensorflow as tf\n",
    "import os\n",
    "\n",
    "X_train = tf.keras.preprocessing.sequence.pad_sequences(X_train,\n",
    "                                                        value=word_to_index[\"<PAD>\"],\n",
    "                                                        padding='post', # 혹은 'pre'\n",
    "                                                        maxlen=maxlen)\n",
    "\n",
    "X_test = tf.keras.preprocessing.sequence.pad_sequences(X_test,\n",
    "                                                       value=word_to_index[\"<PAD>\"],\n",
    "                                                       padding='post', # 혹은 'pre'\n",
    "                                                       maxlen=maxlen)\n",
    "\n",
    "print(X_train.shape)\n",
    "\n"
   ]
  },
  {
   "cell_type": "code",
   "execution_count": 9,
   "id": "0520c690",
   "metadata": {},
   "outputs": [
    {
     "name": "stdout",
     "output_type": "stream",
     "text": [
      "Model: \"sequential\"\n",
      "_________________________________________________________________\n",
      "Layer (type)                 Output Shape              Param #   \n",
      "=================================================================\n",
      "embedding (Embedding)        (None, None, 16)          160000    \n",
      "_________________________________________________________________\n",
      "conv1d (Conv1D)              (None, None, 64)          7232      \n",
      "_________________________________________________________________\n",
      "max_pooling1d (MaxPooling1D) (None, None, 64)          0         \n",
      "_________________________________________________________________\n",
      "conv1d_1 (Conv1D)            (None, None, 32)          14368     \n",
      "_________________________________________________________________\n",
      "global_max_pooling1d (Global (None, 32)                0         \n",
      "_________________________________________________________________\n",
      "dense (Dense)                (None, 8)                 264       \n",
      "_________________________________________________________________\n",
      "dense_1 (Dense)              (None, 1)                 9         \n",
      "=================================================================\n",
      "Total params: 181,873\n",
      "Trainable params: 181,873\n",
      "Non-trainable params: 0\n",
      "_________________________________________________________________\n",
      "Model: \"sequential\"\n",
      "_________________________________________________________________\n",
      "Layer (type)                 Output Shape              Param #   \n",
      "=================================================================\n",
      "embedding (Embedding)        (None, None, 16)          160000    \n",
      "_________________________________________________________________\n",
      "conv1d (Conv1D)              (None, None, 64)          7232      \n",
      "_________________________________________________________________\n",
      "max_pooling1d (MaxPooling1D) (None, None, 64)          0         \n",
      "_________________________________________________________________\n",
      "conv1d_1 (Conv1D)            (None, None, 32)          14368     \n",
      "_________________________________________________________________\n",
      "global_max_pooling1d (Global (None, 32)                0         \n",
      "_________________________________________________________________\n",
      "dense (Dense)                (None, 8)                 264       \n",
      "_________________________________________________________________\n",
      "dense_1 (Dense)              (None, 1)                 9         \n",
      "=================================================================\n",
      "Total params: 181,873\n",
      "Trainable params: 181,873\n",
      "Non-trainable params: 0\n",
      "_________________________________________________________________\n"
     ]
    }
   ],
   "source": [
    "vocab_size = 10000    # 어휘 사전의 크기입니다(10,000개의 단어)\n",
    "word_vector_dim = 16  # 워드 벡터의 차원 수 (변경 가능한 하이퍼파라미터)\n",
    "\n",
    "# model 설계 - 딥러닝 모델 코드를 직접 작성해 주세요.\n",
    "model = tf.keras.Sequential()\n",
    "model.add(tf.keras.layers.Embedding(vocab_size, word_vector_dim, input_shape=(None,)))\n",
    "# model.add(tf.keras.layers.Conv1D(16, 7, activation='relu'))\n",
    "# model.add(tf.keras.layers.MaxPooling1D(3))\n",
    "model.add(tf.keras.layers.Conv1D(64, 7, activation='relu'))\n",
    "model.add(tf.keras.layers.MaxPooling1D(3))\n",
    "model.add(tf.keras.layers.Conv1D(32, 7, activation='relu'))\n",
    "model.add(tf.keras.layers.GlobalMaxPooling1D())\n",
    "model.add(tf.keras.layers.Dense(8, activation='relu'))\n",
    "model.add(tf.keras.layers.Dense(1, activation='sigmoid'))  # 최종 출력은 긍정/부정을 나타내는 1dim 입니다.\n",
    "\n",
    "model.summary()\n",
    "\n",
    "model.summary()"
   ]
  },
  {
   "cell_type": "code",
   "execution_count": 42,
   "id": "7d067fa2",
   "metadata": {},
   "outputs": [
    {
     "name": "stdout",
     "output_type": "stream",
     "text": [
      "(136182, 41)\n",
      "(136182,)\n"
     ]
    }
   ],
   "source": [
    "# validation set 10000건 분리\n",
    "x_val = X_train[:10000]   \n",
    "y_val = y_train[:10000]\n",
    "\n",
    "# validation set을 제외한 나머지 15000건\n",
    "partial_x_train = X_train[10000:]  \n",
    "partial_y_train = y_train[10000:]\n",
    "\n",
    "print(partial_x_train.shape)\n",
    "print(partial_y_train.shape)"
   ]
  },
  {
   "cell_type": "markdown",
   "id": "1e6c8c28",
   "metadata": {},
   "source": [
    "# Y 의 형태는 x 의 쉐잎보다 차원이 낮다는 점을 명심한다 "
   ]
  },
  {
   "cell_type": "code",
   "execution_count": 31,
   "id": "ad06198c",
   "metadata": {},
   "outputs": [
    {
     "name": "stdout",
     "output_type": "stream",
     "text": [
      "Epoch 1/20\n",
      "2128/2128 [==============================] - 15s 6ms/step - loss: 0.5764 - accuracy: 0.6400 - val_loss: 0.3672 - val_accuracy: 0.8392\n",
      "Epoch 2/20\n",
      "2128/2128 [==============================] - 11s 5ms/step - loss: 0.3393 - accuracy: 0.8547 - val_loss: 0.3297 - val_accuracy: 0.8564\n",
      "Epoch 3/20\n",
      "2128/2128 [==============================] - 11s 5ms/step - loss: 0.3005 - accuracy: 0.8742 - val_loss: 0.3262 - val_accuracy: 0.8593\n",
      "Epoch 4/20\n",
      "2128/2128 [==============================] - 11s 5ms/step - loss: 0.2787 - accuracy: 0.8848 - val_loss: 0.3252 - val_accuracy: 0.8585\n",
      "Epoch 5/20\n",
      "2128/2128 [==============================] - 11s 5ms/step - loss: 0.2612 - accuracy: 0.8928 - val_loss: 0.3288 - val_accuracy: 0.8598\n",
      "Epoch 6/20\n",
      "2128/2128 [==============================] - 11s 5ms/step - loss: 0.2455 - accuracy: 0.8999 - val_loss: 0.3395 - val_accuracy: 0.8556\n",
      "Epoch 7/20\n",
      "2128/2128 [==============================] - 11s 5ms/step - loss: 0.2311 - accuracy: 0.9069 - val_loss: 0.3467 - val_accuracy: 0.8567\n",
      "Epoch 8/20\n",
      "2128/2128 [==============================] - 11s 5ms/step - loss: 0.2160 - accuracy: 0.9130 - val_loss: 0.3595 - val_accuracy: 0.8514\n",
      "Epoch 9/20\n",
      "2128/2128 [==============================] - 11s 5ms/step - loss: 0.2016 - accuracy: 0.9196 - val_loss: 0.3662 - val_accuracy: 0.8517\n",
      "Epoch 10/20\n",
      "2128/2128 [==============================] - 11s 5ms/step - loss: 0.1866 - accuracy: 0.9264 - val_loss: 0.4008 - val_accuracy: 0.8506\n",
      "Epoch 11/20\n",
      "2128/2128 [==============================] - 11s 5ms/step - loss: 0.1733 - accuracy: 0.9330 - val_loss: 0.4007 - val_accuracy: 0.8483\n",
      "Epoch 12/20\n",
      "2128/2128 [==============================] - 11s 5ms/step - loss: 0.1612 - accuracy: 0.9379 - val_loss: 0.4282 - val_accuracy: 0.8486\n",
      "Epoch 13/20\n",
      "2128/2128 [==============================] - 11s 5ms/step - loss: 0.1497 - accuracy: 0.9428 - val_loss: 0.4410 - val_accuracy: 0.8455\n",
      "Epoch 14/20\n",
      "2128/2128 [==============================] - 11s 5ms/step - loss: 0.1398 - accuracy: 0.9466 - val_loss: 0.4969 - val_accuracy: 0.8439\n",
      "Epoch 15/20\n",
      "2128/2128 [==============================] - 11s 5ms/step - loss: 0.1298 - accuracy: 0.9509 - val_loss: 0.5326 - val_accuracy: 0.8410\n",
      "Epoch 16/20\n",
      "2128/2128 [==============================] - 11s 5ms/step - loss: 0.1221 - accuracy: 0.9540 - val_loss: 0.5207 - val_accuracy: 0.8395\n",
      "Epoch 17/20\n",
      "2128/2128 [==============================] - 11s 5ms/step - loss: 0.1150 - accuracy: 0.9569 - val_loss: 0.5663 - val_accuracy: 0.8369\n",
      "Epoch 18/20\n",
      "2128/2128 [==============================] - 11s 5ms/step - loss: 0.1090 - accuracy: 0.9589 - val_loss: 0.5707 - val_accuracy: 0.8386\n",
      "Epoch 19/20\n",
      "2128/2128 [==============================] - 11s 5ms/step - loss: 0.1033 - accuracy: 0.9608 - val_loss: 0.5928 - val_accuracy: 0.8336\n",
      "Epoch 20/20\n",
      "2128/2128 [==============================] - 11s 5ms/step - loss: 0.0983 - accuracy: 0.9632 - val_loss: 0.6182 - val_accuracy: 0.8393\n"
     ]
    }
   ],
   "source": [
    "model.compile(optimizer='adam',\n",
    "              loss='binary_crossentropy',\n",
    "              metrics=['accuracy'])\n",
    "              \n",
    "epochs=20  # 몇 epoch를 훈련하면 좋을지 결과를 보면서 바꾸어 봅시다. \n",
    "\n",
    "history = model.fit(partial_x_train,\n",
    "                    partial_y_train,\n",
    "                    epochs=epochs,\n",
    "                    batch_size=64,\n",
    "                    validation_data=(x_val, y_val),\n",
    "                    verbose=1)"
   ]
  },
  {
   "cell_type": "code",
   "execution_count": 32,
   "id": "6bc05b24",
   "metadata": {},
   "outputs": [
    {
     "name": "stdout",
     "output_type": "stream",
     "text": [
      "1537/1537 - 3s - loss: 0.6590 - accuracy: 0.8284\n",
      "[0.6590453386306763, 0.8283866047859192]\n"
     ]
    }
   ],
   "source": [
    "results = model.evaluate(X_test,  y_test, verbose=2)\n",
    "\n",
    "print(results)"
   ]
  },
  {
   "cell_type": "code",
   "execution_count": 33,
   "id": "1511a24d",
   "metadata": {},
   "outputs": [
    {
     "name": "stdout",
     "output_type": "stream",
     "text": [
      "dict_keys(['loss', 'accuracy', 'val_loss', 'val_accuracy'])\n"
     ]
    }
   ],
   "source": [
    "history_dict = history.history\n",
    "print(history_dict.keys()) # epoch에 따른 그래프를 그려볼 수 있는 항목들"
   ]
  },
  {
   "cell_type": "code",
   "execution_count": 34,
   "id": "763a9a9b",
   "metadata": {},
   "outputs": [
    {
     "data": {
      "image/png": "[encoded data removed]",
      "text/plain": [
       "<Figure size 432x288 with 1 Axes>"
      ]
     },
     "metadata": {
      "needs_background": "light"
     },
     "output_type": "display_data"
    }
   ],
   "source": [
    "import matplotlib.pyplot as plt\n",
    "\n",
    "acc = history_dict['accuracy']\n",
    "val_acc = history_dict['val_accuracy']\n",
    "loss = history_dict['loss']\n",
    "val_loss = history_dict['val_loss']\n",
    "\n",
    "epochs = range(1, len(acc) + 1)\n",
    "\n",
    "# \"bo\"는 \"파란색 점\"입니다\n",
    "plt.plot(epochs, loss, 'bo', label='Training loss') #X 축 , y 축 으로 타이핑  \n",
    "# b는 \"파란 실선\"입니다\n",
    "plt.plot(epochs, val_loss, 'b', label='Validation loss')\n",
    "plt.title('Training and validation loss')\n",
    "plt.xlabel('Epochs')\n",
    "plt.ylabel('Loss')\n",
    "plt.legend()\n",
    "\n",
    "plt.show()"
   ]
  },
  {
   "cell_type": "code",
   "execution_count": 35,
   "id": "dec0e64d",
   "metadata": {},
   "outputs": [
    {
     "data": {
      "image/png": "[encoded data removed]",
      "text/plain": [
       "<Figure size 432x288 with 1 Axes>"
      ]
     },
     "metadata": {
      "needs_background": "light"
     },
     "output_type": "display_data"
    }
   ],
   "source": [
    "plt.clf()   # 그림을 초기화합니다\n",
    "\n",
    "plt.plot(epochs, acc, 'bo', label='Training acc')\n",
    "plt.plot(epochs, val_acc, 'b', label='Validation acc')\n",
    "plt.title('Training and validation accuracy')\n",
    "plt.xlabel('Epochs')\n",
    "plt.ylabel('Accuracy')\n",
    "plt.legend()\n",
    "\n",
    "plt.show()"
   ]
  },
  {
   "cell_type": "code",
   "execution_count": 36,
   "id": "85d813d9",
   "metadata": {},
   "outputs": [
    {
     "name": "stdout",
     "output_type": "stream",
     "text": [
      "(10000, 200)\n"
     ]
    }
   ],
   "source": [
    "embedding_layer = model.layers[0]\n",
    "weights = embedding_layer.get_weights()[0]\n",
    "print(weights.shape)    # shape: (vocab_size, embedding_dim)"
   ]
  },
  {
   "cell_type": "code",
   "execution_count": 37,
   "id": "6ad43892",
   "metadata": {},
   "outputs": [],
   "source": [
    "# 학습한 Embedding 파라미터를 파일에 써서 저장합니다. \n",
    "\n"
   ]
  },
  {
   "cell_type": "code",
   "execution_count": null,
   "id": "f118c870",
   "metadata": {},
   "outputs": [],
   "source": []
  },
  {
   "cell_type": "code",
   "execution_count": null,
   "id": "cc6db777",
   "metadata": {},
   "outputs": [],
   "source": []
  },
  {
   "cell_type": "code",
   "execution_count": 38,
   "id": "b685049b",
   "metadata": {},
   "outputs": [],
   "source": [
    "gensim.__version__\n",
    "from gensim.models import KeyedVectors"
   ]
  },
  {
   "cell_type": "code",
   "execution_count": 49,
   "id": "7d30a901",
   "metadata": {},
   "outputs": [
    {
     "ename": "KeyError",
     "evalue": "5",
     "output_type": "error",
     "traceback": [
      "\u001b[0;31m---------------------------------------------------------------------------\u001b[0m",
      "\u001b[0;31mKeyError\u001b[0m                                  Traceback (most recent call last)",
      "\u001b[0;32m/tmp/ipykernel_3729/1347556401.py\u001b[0m in \u001b[0;36m<module>\u001b[0;34m\u001b[0m\n\u001b[1;32m     19\u001b[0m \u001b[0;31m#embedding_matrix에 Word2Vec 워드벡터를 단어 하나씩 차례대로 카피\u001b[0m\u001b[0;34m\u001b[0m\u001b[0;34m\u001b[0m\u001b[0m\n\u001b[1;32m     20\u001b[0m \u001b[0;32mfor\u001b[0m \u001b[0mi\u001b[0m \u001b[0;32min\u001b[0m \u001b[0mrange\u001b[0m\u001b[0;34m(\u001b[0m\u001b[0;36m5\u001b[0m\u001b[0;34m,\u001b[0m\u001b[0mvocab_size\u001b[0m\u001b[0;34m)\u001b[0m\u001b[0;34m:\u001b[0m\u001b[0;34m\u001b[0m\u001b[0;34m\u001b[0m\u001b[0m\n\u001b[0;32m---> 21\u001b[0;31m     \u001b[0;32mif\u001b[0m \u001b[0mindex_to_word\u001b[0m\u001b[0;34m[\u001b[0m\u001b[0mi\u001b[0m\u001b[0;34m]\u001b[0m \u001b[0;32min\u001b[0m \u001b[0mword2vec\u001b[0m\u001b[0;34m:\u001b[0m\u001b[0;34m\u001b[0m\u001b[0;34m\u001b[0m\u001b[0m\n\u001b[0m\u001b[1;32m     22\u001b[0m         \u001b[0membedding_matrix\u001b[0m\u001b[0;34m[\u001b[0m\u001b[0mi\u001b[0m\u001b[0;34m]\u001b[0m \u001b[0;34m=\u001b[0m \u001b[0mword2vec\u001b[0m\u001b[0;34m[\u001b[0m\u001b[0mindex_to_word\u001b[0m\u001b[0;34m[\u001b[0m\u001b[0mi\u001b[0m\u001b[0;34m]\u001b[0m\u001b[0;34m]\u001b[0m\u001b[0;34m\u001b[0m\u001b[0;34m\u001b[0m\u001b[0m\n\u001b[1;32m     23\u001b[0m \u001b[0;34m\u001b[0m\u001b[0m\n",
      "\u001b[0;31mKeyError\u001b[0m: 5"
     ]
    }
   ],
   "source": [
    "from tensorflow.keras.initializers import Constant\n",
    "# 임베딩 레이어 변경\n",
    "vocab_size = 10000    # 어휘 사전의 크기입니다(10,000개의 단어)\n",
    "word_vector_dim = 200  # 워드 벡터의 차원수 (변경가능한 하이퍼파라미터)\n",
    "\n",
    "# 학습한 Embedding 파라미터를 파일에 써서 저장합니다. \n",
    "from gensim.models import Word2Vec\n",
    "from gensim.models import KeyedVectors\n",
    "import gensim\n",
    "import numpy as np\n",
    "import keras\n",
    "from gensim.models.keyedvectors import Word2VecKeyedVectors\n",
    "\n",
    "word2vec_path = os.getenv('HOME')+'/aiffel/ko.bin'\n",
    "\n",
    "word2vec = gensim.models.Word2Vec.load(word2vec_path)\n",
    "embedding_matrix = np.random.rand(vocab_size, word_vector_dim)\n",
    "\n",
    "#embedding_matrix에 Word2Vec 워드벡터를 단어 하나씩 차례대로 카피\n",
    "for i in range(5,vocab_size):\n",
    "    if index_to_word[i] in word2vec:\n",
    "        embedding_matrix[i] = word2vec[index_to_word[i]]\n",
    "\n",
    "\n",
    "word2vec.wv.most_similar(\"행복\") \n",
    "\n",
    "# for i in range(4,vocab_size):\n",
    "#     if index_to_word[i] in word2vec:\n",
    "#         embedding_matrix[i] = word2vec[index_to_word[i]]\n",
    "\n",
    "# word_vectors = Word2VecKeyedVectors.load_word2vec_format(word2vec_path, binary=False)\n",
    "# vector = word_vectors['한']\n",
    "# vector"
   ]
  },
  {
   "cell_type": "code",
   "execution_count": 47,
   "id": "fba677b6",
   "metadata": {},
   "outputs": [
    {
     "name": "stdout",
     "output_type": "stream",
     "text": [
      "(106182, 41)\n",
      "(106182,)\n",
      "(146182, 41)\n",
      "Model: \"sequential_10\"\n",
      "_________________________________________________________________\n",
      "Layer (type)                 Output Shape              Param #   \n",
      "=================================================================\n",
      "embedding_9 (Embedding)      (None, 41, 200)           2000000   \n",
      "_________________________________________________________________\n",
      "lstm_8 (LSTM)                (None, 16)                13888     \n",
      "_________________________________________________________________\n",
      "dense_18 (Dense)             (None, 8)                 136       \n",
      "_________________________________________________________________\n",
      "dense_19 (Dense)             (None, 1)                 9         \n",
      "=================================================================\n",
      "Total params: 2,014,033\n",
      "Trainable params: 2,014,033\n",
      "Non-trainable params: 0\n",
      "_________________________________________________________________\n",
      "Epoch 1/15\n",
      "36/36 [==============================] - 3s 33ms/step - loss: 0.6931 - accuracy: 0.5062 - val_loss: 0.6909 - val_accuracy: 0.5231\n",
      "Epoch 2/15\n",
      "36/36 [==============================] - 1s 22ms/step - loss: 0.6720 - accuracy: 0.5633 - val_loss: 0.5977 - val_accuracy: 0.7300\n",
      "Epoch 3/15\n",
      "36/36 [==============================] - 1s 22ms/step - loss: 0.5073 - accuracy: 0.7867 - val_loss: 0.4091 - val_accuracy: 0.8304\n",
      "Epoch 4/15\n",
      "36/36 [==============================] - 1s 22ms/step - loss: 0.3892 - accuracy: 0.8379 - val_loss: 0.3511 - val_accuracy: 0.8603\n",
      "Epoch 5/15\n",
      "36/36 [==============================] - 1s 21ms/step - loss: 0.3486 - accuracy: 0.8579 - val_loss: 0.3253 - val_accuracy: 0.8715\n",
      "Epoch 6/15\n",
      "36/36 [==============================] - 1s 22ms/step - loss: 0.3328 - accuracy: 0.8649 - val_loss: 0.3126 - val_accuracy: 0.8779\n",
      "Epoch 7/15\n",
      "36/36 [==============================] - 1s 22ms/step - loss: 0.3177 - accuracy: 0.8726 - val_loss: 0.3016 - val_accuracy: 0.8831\n",
      "Epoch 8/15\n",
      "36/36 [==============================] - 1s 21ms/step - loss: 0.3098 - accuracy: 0.8765 - val_loss: 0.2965 - val_accuracy: 0.8841\n",
      "Epoch 9/15\n",
      "36/36 [==============================] - 1s 22ms/step - loss: 0.3059 - accuracy: 0.8776 - val_loss: 0.3138 - val_accuracy: 0.8694\n",
      "Epoch 10/15\n",
      "36/36 [==============================] - 1s 22ms/step - loss: 0.2998 - accuracy: 0.8811 - val_loss: 0.2865 - val_accuracy: 0.8889\n",
      "Epoch 11/15\n",
      "36/36 [==============================] - 1s 22ms/step - loss: 0.2947 - accuracy: 0.8832 - val_loss: 0.2797 - val_accuracy: 0.8936\n",
      "Epoch 12/15\n",
      "36/36 [==============================] - 1s 22ms/step - loss: 0.2929 - accuracy: 0.8846 - val_loss: 0.2792 - val_accuracy: 0.8903\n",
      "Epoch 13/15\n",
      "36/36 [==============================] - 1s 23ms/step - loss: 0.2861 - accuracy: 0.8881 - val_loss: 0.2721 - val_accuracy: 0.8952\n",
      "Epoch 14/15\n",
      "36/36 [==============================] - 1s 22ms/step - loss: 0.2807 - accuracy: 0.8909 - val_loss: 0.2654 - val_accuracy: 0.9000\n",
      "Epoch 15/15\n",
      "36/36 [==============================] - 1s 22ms/step - loss: 0.2774 - accuracy: 0.8926 - val_loss: 0.2674 - val_accuracy: 0.8992\n",
      "1537/1537 - 3s - loss: 0.3775 - accuracy: 0.8391\n",
      "[0.37753158807754517, 0.8391073346138]\n",
      "dict_keys(['loss', 'accuracy', 'val_loss', 'val_accuracy'])\n"
     ]
    },
    {
     "data": {
      "image/png": "[encoded data removed]",
      "text/plain": [
       "<Figure size 432x288 with 1 Axes>"
      ]
     },
     "metadata": {
      "needs_background": "light"
     },
     "output_type": "display_data"
    },
    {
     "data": {
      "image/png": "[encoded data removed]",
      "text/plain": [
       "<Figure size 432x288 with 1 Axes>"
      ]
     },
     "metadata": {
      "needs_background": "light"
     },
     "output_type": "display_data"
    }
   ],
   "source": [
    "# 임베딩 레이어 변경\n",
    "vocab_size = 10000    # 어휘 사전의 크기입니다(10,000개의 단어)\n",
    "word_vector_dim = 200  # 워드 벡터의 차원수 (변경가능한 하이퍼파라미터)\n",
    "\n",
    "X_train = keras.preprocessing.sequence.pad_sequences(X_train,\n",
    "                                       value=word_to_index[\"<PAD>\"],\n",
    "                                                     padding='post', maxlen=maxlen)\n",
    "\n",
    "X_test = keras.preprocessing.sequence.pad_sequences(X_test,\n",
    "                                       value=word_to_index[\"<PAD>\"],\n",
    "                                       padding='post',\n",
    "                                       maxlen=maxlen)\n",
    "\n",
    "x_val = X_train[:40000]\n",
    "y_val = y_train[:40000]\n",
    "\n",
    "#validation set을 제외한 나머지는 train set으로 사용\n",
    "partial_x_train = X_train[40000:]\n",
    "partial_y_train = y_train[40000:]\n",
    "\n",
    "print(partial_x_train.shape)\n",
    "print(partial_y_train.shape)\n",
    "\n",
    "print(X_train.shape)\n",
    "\n",
    "# 모델 설계\n",
    "from tensorflow.keras.initializers import Constant\n",
    "\n",
    "vocab_size = 10000    # 어휘 사전의 크기입니다(10,000개의 단어)\n",
    "word_vector_dim = 200  # 워드 벡터의 차원수 (변경가능한 하이퍼파라미터)\n",
    "\n",
    "# 모델 구성\n",
    "model = keras.Sequential()\n",
    "model.add(keras.layers.Embedding(vocab_size, \n",
    "                                 word_vector_dim, \n",
    "                                 embeddings_initializer=Constant(embedding_matrix),  # 카피한 임베딩을 여기서 활용!!!\n",
    "                                 input_length=maxlen, \n",
    "                                 trainable=True))   # trainable을 True로 주면 Fine-tuning\n",
    "model.add(keras.layers.LSTM(16))\n",
    "model.add(keras.layers.Dense(8, activation='relu'))\n",
    "model.add(keras.layers.Dense(1, activation='sigmoid'))\n",
    "\n",
    "model.summary()\n",
    "\n",
    "# 모델 학습\n",
    "model.compile(optimizer='adam',\n",
    "              loss='binary_crossentropy',\n",
    "              metrics=['accuracy'])\n",
    "\n",
    "epochs=15\n",
    "\n",
    "patial_x_train = np.asarray(partial_x_train)\n",
    "patial_y_train = np.asarray(partial_y_train)\n",
    "\n",
    "\n",
    "\n",
    "history = model.fit(X_train,\n",
    "                    y_train,\n",
    "                    epochs=epochs,\n",
    "                    batch_size=4096,\n",
    "                    validation_data=(x_val, y_val),\n",
    "                    verbose=1)\n",
    "\n",
    "# 모델 평가\n",
    "results = model.evaluate(X_test,  y_test, verbose=2)\n",
    "\n",
    "print(results)\n",
    "\n",
    "# 모델의 fitting 과정 중의 정보들이 history 변수에 저장\n",
    "history_dict = history.history\n",
    "print(history_dict.keys()) # epoch에 따른 그래프를 그려볼 수 있는 항목들\n",
    "\n",
    "# 도식화 Training and Validation loss\n",
    "import matplotlib.pyplot as plt\n",
    "\n",
    "acc = history_dict['accuracy']\n",
    "val_acc = history_dict['val_accuracy']\n",
    "loss = history_dict['loss']\n",
    "val_loss = history_dict['val_loss']\n",
    "\n",
    "epochs = range(1, len(acc) + 1)\n",
    "\n",
    "# \"bo\"는 \"파란색 점\"입니다\n",
    "plt.plot(epochs, loss, 'bo', label='Training loss')\n",
    "# b는 \"파란 실선\"입니다\n",
    "plt.plot(epochs, val_loss, 'b', label='Validation loss')\n",
    "plt.title('Training and validation loss')\n",
    "plt.xlabel('Epochs')\n",
    "plt.ylabel('Loss')\n",
    "plt.legend()\n",
    "\n",
    "plt.show()\n",
    "\n",
    "# Training and Validation accuracy\n",
    "plt.clf()   # 그림을 초기화합니다\n",
    "\n",
    "plt.plot(epochs, acc, 'bo', label='Training acc')\n",
    "plt.plot(epochs, val_acc, 'b', label='Validation acc')\n",
    "plt.title('Training and validation accuracy')\n",
    "plt.xlabel('Epochs')\n",
    "plt.ylabel('Accuracy')\n",
    "plt.legend()\n",
    "\n",
    "plt.show()"
   ]
  },
  {
   "cell_type": "markdown",
   "id": "a10cbecc",
   "metadata": {},
   "source": [
    "# GlobalMaxPooling 1D 레이어만 사용한 모델(아래)\n"
   ]
  },
  {
   "cell_type": "code",
   "execution_count": 50,
   "id": "5157abd5",
   "metadata": {},
   "outputs": [
    {
     "name": "stdout",
     "output_type": "stream",
     "text": [
      "Model: \"sequential_11\"\n",
      "_________________________________________________________________\n",
      "Layer (type)                 Output Shape              Param #   \n",
      "=================================================================\n",
      "embedding_10 (Embedding)     (None, None, 16)          160000    \n",
      "_________________________________________________________________\n",
      "global_max_pooling1d_1 (Glob (None, 16)                0         \n",
      "_________________________________________________________________\n",
      "dense_20 (Dense)             (None, 8)                 136       \n",
      "_________________________________________________________________\n",
      "dense_21 (Dense)             (None, 1)                 9         \n",
      "=================================================================\n",
      "Total params: 160,145\n",
      "Trainable params: 160,145\n",
      "Non-trainable params: 0\n",
      "_________________________________________________________________\n"
     ]
    }
   ],
   "source": [
    "#어휘 사전의 크기(10,000개의 단어)\n",
    "vocab_size = 10000    \n",
    "\n",
    "#단어 하나를 표현하는 임베딩 벡터의 차원수(변경가능)\n",
    "word_vector_dim = 16  \n",
    "\n",
    "#GlobalMaxPooling1D레이어 하나만 사용한 모델\n",
    "model = keras.Sequential()\n",
    "model.add(keras.layers.Embedding(vocab_size, word_vector_dim, input_shape=(None,)))\n",
    "model.add(keras.layers.GlobalMaxPooling1D())\n",
    "model.add(keras.layers.Dense(8, activation='relu'))\n",
    "model.add(keras.layers.Dense(1, activation='sigmoid'))  #최종 출력은 긍정/부정을 나타내는 1dim\n",
    "\n",
    "model.summary()"
   ]
  },
  {
   "cell_type": "code",
   "execution_count": 51,
   "id": "3a0aa583",
   "metadata": {},
   "outputs": [
    {
     "name": "stdout",
     "output_type": "stream",
     "text": [
      "Epoch 1/5\n",
      "208/208 [==============================] - 1s 4ms/step - loss: 0.6036 - accuracy: 0.7632 - val_loss: 0.4598 - val_accuracy: 0.8179\n",
      "Epoch 2/5\n",
      "208/208 [==============================] - 1s 4ms/step - loss: 0.3944 - accuracy: 0.8341 - val_loss: 0.3693 - val_accuracy: 0.8367\n",
      "Epoch 3/5\n",
      "208/208 [==============================] - 1s 4ms/step - loss: 0.3340 - accuracy: 0.8583 - val_loss: 0.3552 - val_accuracy: 0.8432\n",
      "Epoch 4/5\n",
      "208/208 [==============================] - 1s 4ms/step - loss: 0.3038 - accuracy: 0.8737 - val_loss: 0.3537 - val_accuracy: 0.8452\n",
      "Epoch 5/5\n",
      "208/208 [==============================] - 1s 4ms/step - loss: 0.2819 - accuracy: 0.8847 - val_loss: 0.3563 - val_accuracy: 0.8451\n"
     ]
    }
   ],
   "source": [
    "#GlobalMaxPooling1D레이어 하나만 사용한 모델 학습\n",
    "model.compile(optimizer='adam',\n",
    "             loss='binary_crossentropy',\n",
    "             metrics=['accuracy'])\n",
    "            \n",
    "epochs=5\n",
    "\n",
    "history = model.fit(partial_x_train,\n",
    "                   partial_y_train,\n",
    "                   epochs=epochs,\n",
    "                   batch_size=512,\n",
    "                   validation_data=(x_val, y_val),\n",
    "                   verbose=1)"
   ]
  },
  {
   "cell_type": "code",
   "execution_count": 52,
   "id": "3d20109c",
   "metadata": {},
   "outputs": [
    {
     "name": "stdout",
     "output_type": "stream",
     "text": [
      "1537/1537 - 2s - loss: 0.3650 - accuracy: 0.8425\n",
      "[0.365008682012558, 0.8424639701843262]\n"
     ]
    }
   ],
   "source": [
    "results = model.evaluate(X_test,  y_test, verbose=2)\n",
    "print(results)"
   ]
  },
  {
   "cell_type": "code",
   "execution_count": 53,
   "id": "5cab8975",
   "metadata": {},
   "outputs": [
    {
     "data": {
      "image/png": "[encoded data removed]",
      "text/plain": [
       "<Figure size 576x288 with 2 Axes>"
      ]
     },
     "metadata": {
      "needs_background": "light"
     },
     "output_type": "display_data"
    }
   ],
   "source": [
    "#Loss, Accuracy 그래프 시각화\n",
    "\n",
    "history_dict = history.history\n",
    "acc = history_dict['accuracy']\n",
    "val_acc = history_dict['val_accuracy']\n",
    "loss = history_dict['loss']\n",
    "val_loss = history_dict['val_loss']\n",
    "\n",
    "epochs = range(1, len(acc) + 1)\n",
    "\n",
    "# Accuracy 그래프\n",
    "plt.figure(figsize=(8, 4))\n",
    "plt.subplot(1, 2, 1)\n",
    "plt.plot(epochs, acc, label='Training Accuracy')\n",
    "plt.plot(epochs, val_acc, label='Validation Accuracy')\n",
    "plt.legend(loc='lower right')\n",
    "plt.title('Training and Validation Accuracy')\n",
    "\n",
    "# Loss 그래프\n",
    "plt.subplot(1, 2, 2)\n",
    "plt.plot(epochs, loss, label='Training Loss')\n",
    "plt.plot(epochs, val_loss, label='Validation Loss')\n",
    "plt.legend(loc='upper right')\n",
    "plt.title('Training and Validation Loss')\n",
    "plt.show()\n"
   ]
  },
  {
   "cell_type": "markdown",
   "id": "eff0060b",
   "metadata": {},
   "source": [
    "### validation loss의 그래프가 train loss와의 이격이 발생하게 되면 더이상의 트레이닝은 무의미해진다\n",
    "\n",
    "# 밑은 활성화함수 GELU 를 이용한 모델\n"
   ]
  },
  {
   "cell_type": "code",
   "execution_count": 54,
   "id": "9bd96a66",
   "metadata": {},
   "outputs": [
    {
     "name": "stdout",
     "output_type": "stream",
     "text": [
      "Model: \"sequential_12\"\n",
      "_________________________________________________________________\n",
      "Layer (type)                 Output Shape              Param #   \n",
      "=================================================================\n",
      "embedding_11 (Embedding)     (None, None, 16)          160000    \n",
      "_________________________________________________________________\n",
      "global_max_pooling1d_2 (Glob (None, 16)                0         \n",
      "_________________________________________________________________\n",
      "dense_22 (Dense)             (None, 8)                 136       \n",
      "_________________________________________________________________\n",
      "dense_23 (Dense)             (None, 1)                 9         \n",
      "=================================================================\n",
      "Total params: 160,145\n",
      "Trainable params: 160,145\n",
      "Non-trainable params: 0\n",
      "_________________________________________________________________\n"
     ]
    }
   ],
   "source": [
    "#어휘 사전의 크기(10,000개의 단어)\n",
    "vocab_size = 10000    \n",
    "\n",
    "#단어 하나를 표현하는 임베딩 벡터의 차원수(변경가능)\n",
    "word_vector_dim = 16  \n",
    "\n",
    "#GlobalMaxPooling1D레이어 하나만 사용한 모델\n",
    "model = keras.Sequential()\n",
    "model.add(keras.layers.Embedding(vocab_size, word_vector_dim, input_shape=(None,)))\n",
    "model.add(keras.layers.GlobalMaxPooling1D())\n",
    "model.add(keras.layers.Dense(8, activation='ELU'))\n",
    "model.add(keras.layers.Dense(1, activation='sigmoid'))  #최종 출력은 긍정/부정을 나타내는 1dim\n",
    "\n",
    "model.summary()"
   ]
  },
  {
   "cell_type": "code",
   "execution_count": 55,
   "id": "ff2a8cdc",
   "metadata": {},
   "outputs": [
    {
     "name": "stdout",
     "output_type": "stream",
     "text": [
      "Epoch 1/5\n",
      "208/208 [==============================] - 1s 4ms/step - loss: 0.5754 - accuracy: 0.7617 - val_loss: 0.4239 - val_accuracy: 0.8172\n",
      "Epoch 2/5\n",
      "208/208 [==============================] - 1s 4ms/step - loss: 0.3782 - accuracy: 0.8368 - val_loss: 0.3658 - val_accuracy: 0.8372\n",
      "Epoch 3/5\n",
      "208/208 [==============================] - 1s 4ms/step - loss: 0.3289 - accuracy: 0.8613 - val_loss: 0.3547 - val_accuracy: 0.8439\n",
      "Epoch 4/5\n",
      "208/208 [==============================] - 1s 4ms/step - loss: 0.3001 - accuracy: 0.8755 - val_loss: 0.3541 - val_accuracy: 0.8454\n",
      "Epoch 5/5\n",
      "208/208 [==============================] - 1s 4ms/step - loss: 0.2783 - accuracy: 0.8854 - val_loss: 0.3583 - val_accuracy: 0.8454\n"
     ]
    }
   ],
   "source": [
    "#GlobalMaxPooling1D레이어 하나만 사용한 모델 학습\n",
    "model.compile(optimizer='adam',\n",
    "             loss='binary_crossentropy',\n",
    "             metrics=['accuracy'])\n",
    "            \n",
    "epochs=5\n",
    "\n",
    "history = model.fit(partial_x_train,\n",
    "                   partial_y_train,\n",
    "                   epochs=epochs,\n",
    "                   batch_size=512,\n",
    "                   validation_data=(x_val, y_val),\n",
    "                   verbose=1)"
   ]
  },
  {
   "cell_type": "code",
   "execution_count": 56,
   "id": "cb220477",
   "metadata": {},
   "outputs": [
    {
     "name": "stdout",
     "output_type": "stream",
     "text": [
      "1537/1537 - 2s - loss: 0.3678 - accuracy: 0.8411\n",
      "[0.36782917380332947, 0.8411213159561157]\n"
     ]
    }
   ],
   "source": [
    "results = model.evaluate(X_test,  y_test, verbose=2)\n",
    "print(results)"
   ]
  },
  {
   "cell_type": "code",
   "execution_count": 57,
   "id": "524ef525",
   "metadata": {},
   "outputs": [
    {
     "data": {
      "image/png": "[encoded data removed]",
      "text/plain": [
       "<Figure size 576x288 with 2 Axes>"
      ]
     },
     "metadata": {
      "needs_background": "light"
     },
     "output_type": "display_data"
    }
   ],
   "source": [
    "#Loss, Accuracy 그래프 시각화\n",
    "\n",
    "history_dict = history.history\n",
    "acc = history_dict['accuracy']\n",
    "val_acc = history_dict['val_accuracy']\n",
    "loss = history_dict['loss']\n",
    "val_loss = history_dict['val_loss']\n",
    "\n",
    "epochs = range(1, len(acc) + 1)\n",
    "\n",
    "# Accuracy 그래프\n",
    "plt.figure(figsize=(8, 4))\n",
    "plt.subplot(1, 2, 1)\n",
    "plt.plot(epochs, acc, label='Training Accuracy')\n",
    "plt.plot(epochs, val_acc, label='Validation Accuracy')\n",
    "plt.legend(loc='lower right')\n",
    "plt.title('Training and Validation Accuracy')\n",
    "\n",
    "# Loss 그래프\n",
    "plt.subplot(1, 2, 2)\n",
    "plt.plot(epochs, loss, label='Training Loss')\n",
    "plt.plot(epochs, val_loss, label='Validation Loss')\n",
    "plt.legend(loc='upper right')\n",
    "plt.title('Training and Validation Loss')\n",
    "plt.show()"
   ]
  },
  {
   "cell_type": "code",
   "execution_count": 59,
   "id": "0b9fef65",
   "metadata": {},
   "outputs": [
    {
     "name": "stdout",
     "output_type": "stream",
     "text": [
      "Model: \"sequential_14\"\n",
      "_________________________________________________________________\n",
      "Layer (type)                 Output Shape              Param #   \n",
      "=================================================================\n",
      "embedding_13 (Embedding)     (None, None, 16)          160000    \n",
      "_________________________________________________________________\n",
      "global_max_pooling1d_4 (Glob (None, 16)                0         \n",
      "_________________________________________________________________\n",
      "dense_25 (Dense)             (None, 8)                 136       \n",
      "_________________________________________________________________\n",
      "dense_26 (Dense)             (None, 8)                 72        \n",
      "_________________________________________________________________\n",
      "dense_27 (Dense)             (None, 1)                 9         \n",
      "=================================================================\n",
      "Total params: 160,217\n",
      "Trainable params: 160,217\n",
      "Non-trainable params: 0\n",
      "_________________________________________________________________\n"
     ]
    }
   ],
   "source": [
    "#어휘 사전의 크기(10,000개의 단어)\n",
    "vocab_size = 10000    \n",
    "\n",
    "#단어 하나를 표현하는 임베딩 벡터의 차원수(변경가능)\n",
    "word_vector_dim = 16  \n",
    "\n",
    "#GlobalMaxPooling1D레이어 하나만 사용한 모델\n",
    "model = keras.Sequential()\n",
    "model.add(keras.layers.Embedding(vocab_size, word_vector_dim, input_shape=(None,)))\n",
    "model.add(keras.layers.GlobalMaxPooling1D())\n",
    "model.add(keras.layers.Dense(8, activation='ELU'))\n",
    "\n",
    "model.add(keras.layers.Dense(8, activation='ELU'))\n",
    "model.add(keras.layers.Dense(1, activation='sigmoid'))  #최종 출력은 긍정/부정을 나타내는 1dim\n",
    "\n",
    "model.summary()"
   ]
  },
  {
   "cell_type": "code",
   "execution_count": 60,
   "id": "31247fde",
   "metadata": {},
   "outputs": [
    {
     "name": "stdout",
     "output_type": "stream",
     "text": [
      "Epoch 1/5\n",
      "208/208 [==============================] - 1s 4ms/step - loss: 0.5476 - accuracy: 0.7435 - val_loss: 0.3937 - val_accuracy: 0.8239\n",
      "Epoch 2/5\n",
      "208/208 [==============================] - 1s 4ms/step - loss: 0.3561 - accuracy: 0.8453 - val_loss: 0.3581 - val_accuracy: 0.8401\n",
      "Epoch 3/5\n",
      "208/208 [==============================] - 1s 4ms/step - loss: 0.3127 - accuracy: 0.8689 - val_loss: 0.3545 - val_accuracy: 0.8435\n",
      "Epoch 4/5\n",
      "208/208 [==============================] - 1s 4ms/step - loss: 0.2852 - accuracy: 0.8827 - val_loss: 0.3608 - val_accuracy: 0.8447\n",
      "Epoch 5/5\n",
      "208/208 [==============================] - 1s 4ms/step - loss: 0.2645 - accuracy: 0.8931 - val_loss: 0.3702 - val_accuracy: 0.8446\n"
     ]
    }
   ],
   "source": [
    "#GlobalMaxPooling1D레이어 하나만 사용한 모델 학습\n",
    "model.compile(optimizer='adam',\n",
    "             loss='binary_crossentropy',\n",
    "             metrics=['accuracy'])\n",
    "            \n",
    "epochs=5\n",
    "\n",
    "history = model.fit(partial_x_train,\n",
    "                   partial_y_train,\n",
    "                   epochs=epochs,\n",
    "                   batch_size=512,\n",
    "                   validation_data=(x_val, y_val),\n",
    "                   verbose=1)"
   ]
  },
  {
   "cell_type": "code",
   "execution_count": 61,
   "id": "6b8e30ec",
   "metadata": {},
   "outputs": [
    {
     "name": "stdout",
     "output_type": "stream",
     "text": [
      "1537/1537 - 2s - loss: 0.3804 - accuracy: 0.8405\n",
      "[0.3803829550743103, 0.8404906988143921]\n"
     ]
    }
   ],
   "source": [
    "results = model.evaluate(X_test,  y_test, verbose=2)\n",
    "print(results)"
   ]
  },
  {
   "cell_type": "code",
   "execution_count": 62,
   "id": "b7ce4207",
   "metadata": {},
   "outputs": [
    {
     "data": {
      "image/png": "[encoded data removed]",
      "text/plain": [
       "<Figure size 576x288 with 2 Axes>"
      ]
     },
     "metadata": {
      "needs_background": "light"
     },
     "output_type": "display_data"
    }
   ],
   "source": [
    "#Loss, Accuracy 그래프 시각화\n",
    "\n",
    "history_dict = history.history\n",
    "acc = history_dict['accuracy']\n",
    "val_acc = history_dict['val_accuracy']\n",
    "loss = history_dict['loss']\n",
    "val_loss = history_dict['val_loss']\n",
    "\n",
    "epochs = range(1, len(acc) + 1)\n",
    "\n",
    "# Accuracy 그래프\n",
    "plt.figure(figsize=(8, 4))\n",
    "plt.subplot(1, 2, 1)\n",
    "plt.plot(epochs, acc, label='Training Accuracy')\n",
    "plt.plot(epochs, val_acc, label='Validation Accuracy')\n",
    "plt.legend(loc='lower right')\n",
    "plt.title('Training and Validation Accuracy')\n",
    "\n",
    "# Loss 그래프\n",
    "plt.subplot(1, 2, 2)\n",
    "plt.plot(epochs, loss, label='Training Loss')\n",
    "plt.plot(epochs, val_loss, label='Validation Loss')\n",
    "plt.legend(loc='upper right')\n",
    "plt.title('Training and Validation Loss')\n",
    "plt.show()"
   ]
  },
  {
   "cell_type": "code",
   "execution_count": null,
   "id": "db5854f5",
   "metadata": {},
   "outputs": [],
   "source": []
  }
 ],
 "metadata": {
  "kernelspec": {
   "display_name": "Python 3 (ipykernel)",
   "language": "python",
   "name": "python3"
  },
  "language_info": {
   "codemirror_mode": {
    "name": "ipython",
    "version": 3
   },
   "file_extension": ".py",
   "mimetype": "text/x-python",
   "name": "python",
   "nbconvert_exporter": "python",
   "pygments_lexer": "ipython3",
   "version": "3.9.7"
  }
 },
 "nbformat": 4,
 "nbformat_minor": 5
}
