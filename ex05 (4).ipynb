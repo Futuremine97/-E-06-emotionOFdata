{
 "cells": [
  {
   "cell_type": "code",
   "execution_count": 19,
   "id": "31471ebd",
   "metadata": {},
   "outputs": [
    {
     "data": {
      "text/html": [
       "<div>\n",
       "<style scoped>\n",
       "    .dataframe tbody tr th:only-of-type {\n",
       "        vertical-align: middle;\n",
       "    }\n",
       "\n",
       "    .dataframe tbody tr th {\n",
       "        vertical-align: top;\n",
       "    }\n",
       "\n",
       "    .dataframe thead th {\n",
       "        text-align: right;\n",
       "    }\n",
       "</style>\n",
       "<table border=\"1\" class=\"dataframe\">\n",
       "  <thead>\n",
       "    <tr style=\"text-align: right;\">\n",
       "      <th></th>\n",
       "      <th>id</th>\n",
       "      <th>document</th>\n",
       "      <th>label</th>\n",
       "    </tr>\n",
       "  </thead>\n",
       "  <tbody>\n",
       "    <tr>\n",
       "      <th>0</th>\n",
       "      <td>9976970</td>\n",
       "      <td>아 더빙.. 진짜 짜증나네요 목소리</td>\n",
       "      <td>0</td>\n",
       "    </tr>\n",
       "    <tr>\n",
       "      <th>1</th>\n",
       "      <td>3819312</td>\n",
       "      <td>흠...포스터보고 초딩영화줄....오버연기조차 가볍지 않구나</td>\n",
       "      <td>1</td>\n",
       "    </tr>\n",
       "    <tr>\n",
       "      <th>2</th>\n",
       "      <td>10265843</td>\n",
       "      <td>너무재밓었다그래서보는것을추천한다</td>\n",
       "      <td>0</td>\n",
       "    </tr>\n",
       "    <tr>\n",
       "      <th>3</th>\n",
       "      <td>9045019</td>\n",
       "      <td>교도소 이야기구먼 ..솔직히 재미는 없다..평점 조정</td>\n",
       "      <td>0</td>\n",
       "    </tr>\n",
       "    <tr>\n",
       "      <th>4</th>\n",
       "      <td>6483659</td>\n",
       "      <td>사이몬페그의 익살스런 연기가 돋보였던 영화!스파이더맨에서 늙어보이기만 했던 커스틴 ...</td>\n",
       "      <td>1</td>\n",
       "    </tr>\n",
       "  </tbody>\n",
       "</table>\n",
       "</div>"
      ],
      "text/plain": [
       "         id                                           document  label\n",
       "0   9976970                                아 더빙.. 진짜 짜증나네요 목소리      0\n",
       "1   3819312                  흠...포스터보고 초딩영화줄....오버연기조차 가볍지 않구나      1\n",
       "2  10265843                                  너무재밓었다그래서보는것을추천한다      0\n",
       "3   9045019                      교도소 이야기구먼 ..솔직히 재미는 없다..평점 조정      0\n",
       "4   6483659  사이몬페그의 익살스런 연기가 돋보였던 영화!스파이더맨에서 늙어보이기만 했던 커스틴 ...      1"
      ]
     },
     "execution_count": 19,
     "metadata": {},
     "output_type": "execute_result"
    }
   ],
   "source": [
    "import pandas as pd\n",
    "\n",
    "# 데이터를 읽어봅시다. \n",
    "train_data = pd.read_table('~/aiffel/sentiment_classification/data/ratings_train.txt')\n",
    "test_data = pd.read_table('~/aiffel/sentiment_classification/data/ratings_test.txt')\n",
    "\n",
    "train_data.head()"
   ]
  },
  {
   "cell_type": "code",
   "execution_count": 20,
   "id": "bb67217a",
   "metadata": {},
   "outputs": [],
   "source": [
    "from konlpy.tag import Mecab\n",
    "import numpy as np\n",
    "from collections import Counter\n",
    "\n",
    "tokenizer = Mecab()\n",
    "stopwords = ['의','가','이','은','들','는','좀','잘','걍','과','도','를','으로','자','에','와','한','하다']\n",
    "\n",
    "def load_data(train_data, test_data, num_words=10000):\n",
    "    train_data.drop_duplicates(subset=['document'], inplace=True)\n",
    "    train_data = train_data.dropna(how = 'any') \n",
    "    test_data.drop_duplicates(subset=['document'], inplace=True)\n",
    "    test_data = test_data.dropna(how = 'any') \n",
    "    \n",
    "    X_train = []\n",
    "    for sentence in train_data['document']:\n",
    "        temp_X = tokenizer.morphs(sentence) # 토큰화\n",
    "        temp_X = [word for word in temp_X if not word in stopwords] # 불용어 제거\n",
    "        X_train.append(temp_X)\n",
    "\n",
    "    X_test = []\n",
    "    for sentence in test_data['document']:\n",
    "        temp_X = tokenizer.morphs(sentence) # 토큰화\n",
    "        temp_X = [word for word in temp_X if not word in stopwords] # 불용어 제거\n",
    "        X_test.append(temp_X)\n",
    "    \n",
    "    words = np.concatenate(X_train).tolist()\n",
    "    counter = Counter(words)\n",
    "    counter = counter.most_common(10000-4)\n",
    "    vocab = ['', '', '', ''] + [key for key, _ in counter]\n",
    "    word_to_index = {word:index for index, word in enumerate(vocab)}\n",
    "        \n",
    "    def wordlist_to_indexlist(wordlist):\n",
    "        return [word_to_index[word] if word in word_to_index else word_to_index[''] for word in wordlist]\n",
    "        \n",
    "    X_train = list(map(wordlist_to_indexlist, X_train))\n",
    "    X_test = list(map(wordlist_to_indexlist, X_test))\n",
    "        \n",
    "    return X_train, np.array(list(train_data['label'])), X_test, np.array(list(test_data['label'])), word_to_index\n",
    "    \n",
    "X_train, y_train, X_test, y_test, word_to_index = load_data(train_data, test_data)"
   ]
  },
  {
   "cell_type": "code",
   "execution_count": 67,
   "id": "b1901c16",
   "metadata": {},
   "outputs": [
    {
     "name": "stdout",
     "output_type": "stream",
     "text": [
      "<라>\n"
     ]
    }
   ],
   "source": [
    "index_to_word = {index:word for word, index in word_to_index.items()}\n",
    "print(index_to_word[3])\n",
    "\n"
   ]
  },
  {
   "cell_type": "code",
   "execution_count": 27,
   "id": "59ad7e1b",
   "metadata": {},
   "outputs": [
    {
     "name": "stdout",
     "output_type": "stream",
     "text": [
      "<굳>\n",
      "496\n",
      "<떽>\n"
     ]
    }
   ],
   "source": [
    "#실제 인코딩 인덱스는 제공된 word_to_index에서 index 기준으로 3씩 뒤로 밀려 있습니다.  \n",
    "word_to_index = {k:(v+3) for k,v in word_to_index.items()}\n",
    "\n",
    "# 처음 몇 개 인덱스는 사전에 정의되어 있습니다\n",
    "word_to_index[\"<PAD>\"] = 0\n",
    "word_to_index[\"<굳>\"] = 1\n",
    "word_to_index[\"<떽>\"] = 2  # unknown\n",
    "word_to_index[\"<라>\"] = 3\n",
    "\n",
    "index_to_word = {index:word for word, index in word_to_index.items()}\n",
    "\n",
    "print(index_to_word[1])     # '<BOS>' 가 출력됩니다. \n",
    "print(word_to_index['오늘'])  # 4 이 출력됩니다. \n",
    "print(index_to_word[2])     # 'the' 가 출력됩니다."
   ]
  },
  {
   "cell_type": "code",
   "execution_count": 28,
   "id": "5e00a314",
   "metadata": {},
   "outputs": [
    {
     "name": "stdout",
     "output_type": "stream",
     "text": [
      "문장길이 평균 :  15.96940191154864\n",
      "문장길이 최대 :  116\n",
      "문장길이 표준편차 :  12.843571191092\n",
      "pad_sequences maxlen :  41\n",
      "전체 문장의 0.9342988343341575%가 maxlen 설정값 이내에 포함됩니다. \n"
     ]
    }
   ],
   "source": [
    "total_data_text = list(X_train) + list(X_test)\n",
    "# 텍스트데이터 문장길이의 리스트를 생성한 후\n",
    "num_tokens = [len(tokens) for tokens in total_data_text]\n",
    "num_tokens = np.array(num_tokens)\n",
    "# 문장길이의 평균값, 최대값, 표준편차를 계산해 본다. \n",
    "print('문장길이 평균 : ', np.mean(num_tokens))\n",
    "print('문장길이 최대 : ', np.max(num_tokens))\n",
    "print('문장길이 표준편차 : ', np.std(num_tokens))\n",
    "\n",
    "# 예를들어, 최대 길이를 (평균 + 2*표준편차)로 한다면,  \n",
    "max_tokens = np.mean(num_tokens) + 2 * np.std(num_tokens)\n",
    "maxlen = int(max_tokens)\n",
    "print('pad_sequences maxlen : ', maxlen)\n",
    "print('전체 문장의 {}%가 maxlen 설정값 이내에 포함됩니다. '.format(np.sum(num_tokens < max_tokens) / len(num_tokens)))"
   ]
  },
  {
   "cell_type": "code",
   "execution_count": 29,
   "id": "3a9f3d73",
   "metadata": {},
   "outputs": [
    {
     "name": "stdout",
     "output_type": "stream",
     "text": [
      "(146182, 41)\n"
     ]
    }
   ],
   "source": [
    "\n",
    "import numpy as np\n",
    "import tensorflow as tf\n",
    "import os\n",
    "\n",
    "X_train = tf.keras.preprocessing.sequence.pad_sequences(X_train,\n",
    "                                                        value=word_to_index[\"<PAD>\"],\n",
    "                                                        padding='post', # 혹은 'pre'\n",
    "                                                        maxlen=maxlen)\n",
    "\n",
    "X_test = tf.keras.preprocessing.sequence.pad_sequences(X_test,\n",
    "                                                       value=word_to_index[\"<PAD>\"],\n",
    "                                                       padding='post', # 혹은 'pre'\n",
    "                                                       maxlen=maxlen)\n",
    "\n",
    "print(X_train.shape)\n",
    "\n"
   ]
  },
  {
   "cell_type": "code",
   "execution_count": 9,
   "id": "6cd6209c",
   "metadata": {},
   "outputs": [
    {
     "name": "stdout",
     "output_type": "stream",
     "text": [
      "Model: \"sequential\"\n",
      "_________________________________________________________________\n",
      "Layer (type)                 Output Shape              Param #   \n",
      "=================================================================\n",
      "embedding (Embedding)        (None, None, 16)          160000    \n",
      "_________________________________________________________________\n",
      "conv1d (Conv1D)              (None, None, 64)          7232      \n",
      "_________________________________________________________________\n",
      "max_pooling1d (MaxPooling1D) (None, None, 64)          0         \n",
      "_________________________________________________________________\n",
      "conv1d_1 (Conv1D)            (None, None, 32)          14368     \n",
      "_________________________________________________________________\n",
      "global_max_pooling1d (Global (None, 32)                0         \n",
      "_________________________________________________________________\n",
      "dense (Dense)                (None, 8)                 264       \n",
      "_________________________________________________________________\n",
      "dense_1 (Dense)              (None, 1)                 9         \n",
      "=================================================================\n",
      "Total params: 181,873\n",
      "Trainable params: 181,873\n",
      "Non-trainable params: 0\n",
      "_________________________________________________________________\n",
      "Model: \"sequential\"\n",
      "_________________________________________________________________\n",
      "Layer (type)                 Output Shape              Param #   \n",
      "=================================================================\n",
      "embedding (Embedding)        (None, None, 16)          160000    \n",
      "_________________________________________________________________\n",
      "conv1d (Conv1D)              (None, None, 64)          7232      \n",
      "_________________________________________________________________\n",
      "max_pooling1d (MaxPooling1D) (None, None, 64)          0         \n",
      "_________________________________________________________________\n",
      "conv1d_1 (Conv1D)            (None, None, 32)          14368     \n",
      "_________________________________________________________________\n",
      "global_max_pooling1d (Global (None, 32)                0         \n",
      "_________________________________________________________________\n",
      "dense (Dense)                (None, 8)                 264       \n",
      "_________________________________________________________________\n",
      "dense_1 (Dense)              (None, 1)                 9         \n",
      "=================================================================\n",
      "Total params: 181,873\n",
      "Trainable params: 181,873\n",
      "Non-trainable params: 0\n",
      "_________________________________________________________________\n"
     ]
    }
   ],
   "source": [
    "vocab_size = 10000    # 어휘 사전의 크기입니다(10,000개의 단어)\n",
    "word_vector_dim = 16  # 워드 벡터의 차원 수 (변경 가능한 하이퍼파라미터)\n",
    "\n",
    "# model 설계 - 딥러닝 모델 코드를 직접 작성해 주세요.\n",
    "model = tf.keras.Sequential()\n",
    "model.add(tf.keras.layers.Embedding(vocab_size, word_vector_dim, input_shape=(None,)))\n",
    "# model.add(tf.keras.layers.Conv1D(16, 7, activation='relu'))\n",
    "# model.add(tf.keras.layers.MaxPooling1D(3))\n",
    "model.add(tf.keras.layers.Conv1D(64, 7, activation='relu'))\n",
    "model.add(tf.keras.layers.MaxPooling1D(3))\n",
    "model.add(tf.keras.layers.Conv1D(32, 7, activation='relu'))\n",
    "model.add(tf.keras.layers.GlobalMaxPooling1D())\n",
    "model.add(tf.keras.layers.Dense(8, activation='relu'))\n",
    "model.add(tf.keras.layers.Dense(1, activation='sigmoid'))  # 최종 출력은 긍정/부정을 나타내는 1dim 입니다.\n",
    "\n",
    "model.summary()\n"
   ]
  },
  {
   "cell_type": "code",
   "execution_count": 42,
   "id": "4668ed93",
   "metadata": {},
   "outputs": [
    {
     "name": "stdout",
     "output_type": "stream",
     "text": [
      "(136182, 41)\n",
      "(136182,)\n"
     ]
    }
   ],
   "source": [
    "# validation set 10000건 분리\n",
    "x_val = X_train[:10000]   \n",
    "y_val = y_train[:10000]\n",
    "\n",
    "# validation set을 제외한 나머지 15000건\n",
    "partial_x_train = X_train[10000:]  \n",
    "partial_y_train = y_train[10000:]\n",
    "\n",
    "print(partial_x_train.shape)\n",
    "print(partial_y_train.shape)"
   ]
  },
  {
   "cell_type": "markdown",
   "id": "61d130a4",
   "metadata": {},
   "source": [
    "# Y 의 형태는 x 의 쉐잎보다 차원이 낮다는 점을 명심한다 "
   ]
  },
  {
   "cell_type": "code",
   "execution_count": 31,
   "id": "8ed35650",
   "metadata": {},
   "outputs": [
    {
     "name": "stdout",
     "output_type": "stream",
     "text": [
      "Epoch 1/20\n",
      "2128/2128 [==============================] - 15s 6ms/step - loss: 0.5764 - accuracy: 0.6400 - val_loss: 0.3672 - val_accuracy: 0.8392\n",
      "Epoch 2/20\n",
      "2128/2128 [==============================] - 11s 5ms/step - loss: 0.3393 - accuracy: 0.8547 - val_loss: 0.3297 - val_accuracy: 0.8564\n",
      "Epoch 3/20\n",
      "2128/2128 [==============================] - 11s 5ms/step - loss: 0.3005 - accuracy: 0.8742 - val_loss: 0.3262 - val_accuracy: 0.8593\n",
      "Epoch 4/20\n",
      "2128/2128 [==============================] - 11s 5ms/step - loss: 0.2787 - accuracy: 0.8848 - val_loss: 0.3252 - val_accuracy: 0.8585\n",
      "Epoch 5/20\n",
      "2128/2128 [==============================] - 11s 5ms/step - loss: 0.2612 - accuracy: 0.8928 - val_loss: 0.3288 - val_accuracy: 0.8598\n",
      "Epoch 6/20\n",
      "2128/2128 [==============================] - 11s 5ms/step - loss: 0.2455 - accuracy: 0.8999 - val_loss: 0.3395 - val_accuracy: 0.8556\n",
      "Epoch 7/20\n",
      "2128/2128 [==============================] - 11s 5ms/step - loss: 0.2311 - accuracy: 0.9069 - val_loss: 0.3467 - val_accuracy: 0.8567\n",
      "Epoch 8/20\n",
      "2128/2128 [==============================] - 11s 5ms/step - loss: 0.2160 - accuracy: 0.9130 - val_loss: 0.3595 - val_accuracy: 0.8514\n",
      "Epoch 9/20\n",
      "2128/2128 [==============================] - 11s 5ms/step - loss: 0.2016 - accuracy: 0.9196 - val_loss: 0.3662 - val_accuracy: 0.8517\n",
      "Epoch 10/20\n",
      "2128/2128 [==============================] - 11s 5ms/step - loss: 0.1866 - accuracy: 0.9264 - val_loss: 0.4008 - val_accuracy: 0.8506\n",
      "Epoch 11/20\n",
      "2128/2128 [==============================] - 11s 5ms/step - loss: 0.1733 - accuracy: 0.9330 - val_loss: 0.4007 - val_accuracy: 0.8483\n",
      "Epoch 12/20\n",
      "2128/2128 [==============================] - 11s 5ms/step - loss: 0.1612 - accuracy: 0.9379 - val_loss: 0.4282 - val_accuracy: 0.8486\n",
      "Epoch 13/20\n",
      "2128/2128 [==============================] - 11s 5ms/step - loss: 0.1497 - accuracy: 0.9428 - val_loss: 0.4410 - val_accuracy: 0.8455\n",
      "Epoch 14/20\n",
      "2128/2128 [==============================] - 11s 5ms/step - loss: 0.1398 - accuracy: 0.9466 - val_loss: 0.4969 - val_accuracy: 0.8439\n",
      "Epoch 15/20\n",
      "2128/2128 [==============================] - 11s 5ms/step - loss: 0.1298 - accuracy: 0.9509 - val_loss: 0.5326 - val_accuracy: 0.8410\n",
      "Epoch 16/20\n",
      "2128/2128 [==============================] - 11s 5ms/step - loss: 0.1221 - accuracy: 0.9540 - val_loss: 0.5207 - val_accuracy: 0.8395\n",
      "Epoch 17/20\n",
      "2128/2128 [==============================] - 11s 5ms/step - loss: 0.1150 - accuracy: 0.9569 - val_loss: 0.5663 - val_accuracy: 0.8369\n",
      "Epoch 18/20\n",
      "2128/2128 [==============================] - 11s 5ms/step - loss: 0.1090 - accuracy: 0.9589 - val_loss: 0.5707 - val_accuracy: 0.8386\n",
      "Epoch 19/20\n",
      "2128/2128 [==============================] - 11s 5ms/step - loss: 0.1033 - accuracy: 0.9608 - val_loss: 0.5928 - val_accuracy: 0.8336\n",
      "Epoch 20/20\n",
      "2128/2128 [==============================] - 11s 5ms/step - loss: 0.0983 - accuracy: 0.9632 - val_loss: 0.6182 - val_accuracy: 0.8393\n"
     ]
    }
   ],
   "source": [
    "model.compile(optimizer='adam',\n",
    "              loss='binary_crossentropy',\n",
    "              metrics=['accuracy'])\n",
    "              \n",
    "epochs=20  # 몇 epoch를 훈련하면 좋을지 결과를 보면서 바꾸어 봅시다. \n",
    "\n",
    "history = model.fit(partial_x_train,\n",
    "                    partial_y_train,\n",
    "                    epochs=epochs,\n",
    "                    batch_size=64,\n",
    "                    validation_data=(x_val, y_val),\n",
    "                    verbose=1)"
   ]
  },
  {
   "cell_type": "code",
   "execution_count": 32,
   "id": "2e1519a5",
   "metadata": {},
   "outputs": [
    {
     "name": "stdout",
     "output_type": "stream",
     "text": [
      "1537/1537 - 3s - loss: 0.6590 - accuracy: 0.8284\n",
      "[0.6590453386306763, 0.8283866047859192]\n"
     ]
    }
   ],
   "source": [
    "results = model.evaluate(X_test,  y_test, verbose=2)\n",
    "\n",
    "print(results)"
   ]
  },
  {
   "cell_type": "code",
   "execution_count": 33,
   "id": "6454aea3",
   "metadata": {},
   "outputs": [
    {
     "name": "stdout",
     "output_type": "stream",
     "text": [
      "dict_keys(['loss', 'accuracy', 'val_loss', 'val_accuracy'])\n"
     ]
    }
   ],
   "source": [
    "history_dict = history.history\n",
    "print(history_dict.keys()) # epoch에 따른 그래프를 그려볼 수 있는 항목들"
   ]
  },
  {
   "cell_type": "code",
   "execution_count": 34,
   "id": "9e071b92",
   "metadata": {},
   "outputs": [
    {
     "data": {
      "image/png": "[encoded data removed]",
      "text/plain": [
       "<Figure size 432x288 with 1 Axes>"
      ]
     },
     "metadata": {
      "needs_background": "light"
     },
     "output_type": "display_data"
    }
   ],
   "source": [
    "import matplotlib.pyplot as plt\n",
    "\n",
    "acc = history_dict['accuracy']\n",
    "val_acc = history_dict['val_accuracy']\n",
    "loss = history_dict['loss']\n",
    "val_loss = history_dict['val_loss']\n",
    "\n",
    "epochs = range(1, len(acc) + 1)\n",
    "\n",
    "# \"bo\"는 \"파란색 점\"입니다\n",
    "plt.plot(epochs, loss, 'bo', label='Training loss') #X 축 , y 축 으로 타이핑  \n",
    "# b는 \"파란 실선\"입니다\n",
    "plt.plot(epochs, val_loss, 'b', label='Validation loss')\n",
    "plt.title('Training and validation loss')\n",
    "plt.xlabel('Epochs')\n",
    "plt.ylabel('Loss')\n",
    "plt.legend()\n",
    "\n",
    "plt.show()"
   ]
  },
  {
   "cell_type": "code",
   "execution_count": 35,
   "id": "ab8a6e78",
   "metadata": {},
   "outputs": [
    {
     "data": {
      "image/png": "[encoded data removed]",
      "text/plain": [
       "<Figure size 432x288 with 1 Axes>"
      ]
     },
     "metadata": {
      "needs_background": "light"
     },
     "output_type": "display_data"
    }
   ],
   "source": [
    "plt.clf()   # 그림을 초기화합니다\n",
    "\n",
    "plt.plot(epochs, acc, 'bo', label='Training acc')\n",
    "plt.plot(epochs, val_acc, 'b', label='Validation acc')\n",
    "plt.title('Training and validation accuracy')\n",
    "plt.xlabel('Epochs')\n",
    "plt.ylabel('Accuracy')\n",
    "plt.legend()\n",
    "\n",
    "plt.show()"
   ]
  },
  {
   "cell_type": "code",
   "execution_count": 36,
   "id": "d7304d1c",
   "metadata": {},
   "outputs": [
    {
     "name": "stdout",
     "output_type": "stream",
     "text": [
      "(10000, 200)\n"
     ]
    }
   ],
   "source": [
    "embedding_layer = model.layers[0]\n",
    "weights = embedding_layer.get_weights()[0]\n",
    "print(weights.shape)    # shape: (vocab_size, embedding_dim)"
   ]
  },
  {
   "cell_type": "code",
   "execution_count": 37,
   "id": "8784fb84",
   "metadata": {},
   "outputs": [],
   "source": [
    "# 학습한 Embedding 파라미터를 파일에 써서 저장합니다. \n",
    "\n"
   ]
  },
  {
   "cell_type": "code",
   "execution_count": null,
   "id": "74b5ace9",
   "metadata": {},
   "outputs": [],
   "source": []
  },
  {
   "cell_type": "code",
   "execution_count": null,
   "id": "4044a8a6",
   "metadata": {},
   "outputs": [],
   "source": []
  },
  {
   "cell_type": "code",
   "execution_count": 38,
   "id": "20073905",
   "metadata": {},
   "outputs": [],
   "source": [
    "gensim.__version__\n",
    "from gensim.models import KeyedVectors"
   ]
  },
  {
   "cell_type": "code",
   "execution_count": 89,
   "id": "5fff05ec",
   "metadata": {},
   "outputs": [
    {
     "name": "stdout",
     "output_type": "stream",
     "text": [
      "[('사랑', 0.6759077310562134), ('기쁨', 0.6493781805038452), ('즐거움', 0.6396492719650269), ('삶', 0.6299898028373718), ('젊음', 0.6187379360198975), ('즐겁', 0.6027448177337646), ('인생', 0.6002243161201477), ('존엄', 0.5952589511871338), ('고독', 0.5938762426376343), ('불행', 0.5894461870193481)]\n",
      "------------------------------------------------------------------------------------------\n",
      "[('사랑', 0.6759077310562134), ('기쁨', 0.6493781805038452), ('즐거움', 0.6396492719650269), ('삶', 0.6299898028373718), ('젊음', 0.6187379360198975), ('즐겁', 0.6027448177337646), ('인생', 0.6002243161201477), ('존엄', 0.5952589511871338), ('고독', 0.5938762426376343), ('불행', 0.5894461870193481)]\n",
      "------------------------------------------------------------------------------------------\n",
      "[('상승', 0.8115789294242859), ('급락', 0.7797585725784302), ('급등', 0.7704669833183289), ('폭등', 0.756759524345398), ('폭락', 0.7319166660308838), ('감소', 0.7212550044059753), ('증가', 0.6945136785507202), ('저하', 0.6796392798423767), ('상승률', 0.6793742179870605), ('급감', 0.6755764484405518)]\n",
      "------------------------------------------------------------------------------------------\n"
     ]
    },
    {
     "name": "stderr",
     "output_type": "stream",
     "text": [
      "/tmp/ipykernel_3729/632372507.py:24: DeprecationWarning: Call to deprecated `__contains__` (Method will be removed in 4.0.0, use self.wv.__contains__() instead).\n",
      "  if index_to_word[i] in word2vec:\n",
      "/tmp/ipykernel_3729/632372507.py:25: DeprecationWarning: Call to deprecated `__getitem__` (Method will be removed in 4.0.0, use self.wv.__getitem__() instead).\n",
      "  embedding_matrix[i] = word2vec[index_to_word[i]]\n"
     ]
    }
   ],
   "source": [
    "from tensorflow.keras.initializers import Constant\n",
    "# 임베딩 레이어 변경\n",
    "vocab_size = 10000    # 어휘 사전의 크기입니다(10,000개의 단어)\n",
    "word_vector_dim = 200  # 워드 벡터의 차원수 (변경가능한 하이퍼파라미터)\n",
    "\n",
    "# 학습한 Embedding 파라미터를 파일에 써서 저장합니다. \n",
    "from gensim.models import Word2Vec\n",
    "from gensim.models import KeyedVectors\n",
    "import gensim\n",
    "import numpy as np\n",
    "import keras\n",
    "from gensim.models.keyedvectors import Word2VecKeyedVectors\n",
    "\n",
    "word2vec_path = os.getenv('HOME')+'/aiffel/ko.bin'\n",
    "\n",
    "word2vec = gensim.models.Word2Vec.load(word2vec_path) \n",
    "#pretrained word embedding\n",
    "#이미 주어진 모델로 워드 벡터로 활용 \n",
    "embedding_matrix = np.random.rand(vocab_size, word_vector_dim)\n",
    "#이부분이 가장 어려운 부분이었다\n",
    "\n",
    "#embedding_matrix에 Word2Vec 워드벡터를 단어 하나씩 차례대로 카피\n",
    "for i in range(9,vocab_size):\n",
    "    if index_to_word[i] in word2vec:\n",
    "        embedding_matrix[i] = word2vec[index_to_word[i]]\n",
    "\n",
    "\n",
    "p1 = word2vec.wv.most_similar(\"행복\") \n",
    "print(p1)\n",
    "print('-'*90)\n",
    "p2 = word2vec.wv.most_similar(\"주식\") \n",
    "print(p1)\n",
    "print('-'*90)\n",
    "p3 =  word2vec.wv.most_similar(\"하락\")\n",
    "print(p3)\n",
    "print('-'*90)\n",
    "# for i in range(4,vocab_size):\n",
    "#     if index_to_word[i] in word2vec:\n",
    "#         embedding_matrix[i] = word2vec[index_to_word[i]]\n",
    "\n",
    "# word_vectors = Word2VecKeyedVectors.load_word2vec_format(word2vec_path, binary=False)\n",
    "# vector = word_vectors['한']\n",
    "# vector"
   ]
  },
  {
   "cell_type": "code",
   "execution_count": 100,
   "id": "89ee1b21",
   "metadata": {},
   "outputs": [
    {
     "name": "stdout",
     "output_type": "stream",
     "text": [
      "(106182, 41)\n",
      "(106182,)\n",
      "(146182, 41)\n",
      "Model: \"sequential_29\"\n",
      "_________________________________________________________________\n",
      "Layer (type)                 Output Shape              Param #   \n",
      "=================================================================\n",
      "embedding_28 (Embedding)     (None, 41, 200)           2000000   \n",
      "_________________________________________________________________\n",
      "gru_9 (GRU)                  (None, 16)                10464     \n",
      "_________________________________________________________________\n",
      "dense_51 (Dense)             (None, 8)                 136       \n",
      "_________________________________________________________________\n",
      "dense_52 (Dense)             (None, 1)                 9         \n",
      "=================================================================\n",
      "Total params: 2,010,609\n",
      "Trainable params: 2,010,609\n",
      "Non-trainable params: 0\n",
      "_________________________________________________________________\n",
      "Epoch 1/15\n",
      "49/49 [==============================] - 2s 24ms/step - loss: 0.1233 - accuracy: 0.5032 - val_loss: 0.1219 - val_accuracy: 0.5014\n",
      "Epoch 2/15\n",
      "49/49 [==============================] - 1s 16ms/step - loss: 0.1159 - accuracy: 0.5333 - val_loss: 0.1073 - val_accuracy: 0.6030\n",
      "Epoch 3/15\n",
      "49/49 [==============================] - 1s 16ms/step - loss: 0.0970 - accuracy: 0.6737 - val_loss: 0.0848 - val_accuracy: 0.7342\n",
      "Epoch 4/15\n",
      "49/49 [==============================] - 1s 16ms/step - loss: 0.0758 - accuracy: 0.7698 - val_loss: 0.0660 - val_accuracy: 0.8026\n",
      "Epoch 5/15\n",
      "49/49 [==============================] - 1s 16ms/step - loss: 0.0626 - accuracy: 0.8160 - val_loss: 0.0564 - val_accuracy: 0.8372\n",
      "Epoch 6/15\n",
      "49/49 [==============================] - 1s 16ms/step - loss: 0.0552 - accuracy: 0.8410 - val_loss: 0.0509 - val_accuracy: 0.8592\n",
      "Epoch 7/15\n",
      "49/49 [==============================] - 1s 16ms/step - loss: 0.0507 - accuracy: 0.8559 - val_loss: 0.0466 - val_accuracy: 0.8692\n",
      "Epoch 8/15\n",
      "49/49 [==============================] - 1s 16ms/step - loss: 0.0473 - accuracy: 0.8670 - val_loss: 0.0441 - val_accuracy: 0.8749\n",
      "Epoch 9/15\n",
      "49/49 [==============================] - 1s 16ms/step - loss: 0.0450 - accuracy: 0.8750 - val_loss: 0.0418 - val_accuracy: 0.8878\n",
      "Epoch 10/15\n",
      "49/49 [==============================] - 1s 16ms/step - loss: 0.0428 - accuracy: 0.8829 - val_loss: 0.0399 - val_accuracy: 0.8957\n",
      "Epoch 11/15\n",
      "49/49 [==============================] - 1s 16ms/step - loss: 0.0410 - accuracy: 0.8898 - val_loss: 0.0386 - val_accuracy: 0.8948\n",
      "Epoch 12/15\n",
      "49/49 [==============================] - 1s 16ms/step - loss: 0.0397 - accuracy: 0.8946 - val_loss: 0.0394 - val_accuracy: 0.8849\n",
      "Epoch 13/15\n",
      "49/49 [==============================] - 1s 16ms/step - loss: 0.0384 - accuracy: 0.8987 - val_loss: 0.0356 - val_accuracy: 0.9104\n",
      "Epoch 14/15\n",
      "49/49 [==============================] - 1s 16ms/step - loss: 0.0369 - accuracy: 0.9049 - val_loss: 0.0346 - val_accuracy: 0.9085\n",
      "Epoch 15/15\n",
      "49/49 [==============================] - 1s 16ms/step - loss: 0.0359 - accuracy: 0.9076 - val_loss: 0.0334 - val_accuracy: 0.9175\n",
      "1537/1537 - 3s - loss: 0.0561 - accuracy: 0.8457\n",
      "[0.05608111247420311, 0.8457188010215759]\n",
      "dict_keys(['loss', 'accuracy', 'val_loss', 'val_accuracy'])\n"
     ]
    },
    {
     "data": {
      "image/png": "[encoded data removed]",
      "text/plain": [
       "<Figure size 432x288 with 1 Axes>"
      ]
     },
     "metadata": {
      "needs_background": "light"
     },
     "output_type": "display_data"
    },
    {
     "data": {
      "image/png": "[encoded data removed]",
      "text/plain": [
       "<Figure size 432x288 with 1 Axes>"
      ]
     },
     "metadata": {
      "needs_background": "light"
     },
     "output_type": "display_data"
    }
   ],
   "source": [
    "# 임베딩 레이어 변경\n",
    "vocab_size = 10000    # 어휘 사전의 크기입니다(10,000개의 단어)\n",
    "word_vector_dim = 200  # 워드 벡터의 차원수 (변경가능한 하이퍼파라미터)\n",
    "\n",
    "X_train = keras.preprocessing.sequence.pad_sequences(X_train,\n",
    "                                       value=word_to_index[\"<PAD>\"],\n",
    "                                                     padding='post', maxlen=maxlen)\n",
    "\n",
    "X_test = keras.preprocessing.sequence.pad_sequences(X_test,\n",
    "                                       value=word_to_index[\"<PAD>\"],\n",
    "                                       padding='post',\n",
    "                                       maxlen=maxlen)\n",
    "\n",
    "x_val = X_train[:40000]\n",
    "y_val = y_train[:40000]\n",
    "\n",
    "#validation set을 제외한 나머지는 train set으로 사용\n",
    "partial_x_train = X_train[40000:]\n",
    "partial_y_train = y_train[40000:]\n",
    "\n",
    "print(partial_x_train.shape)\n",
    "print(partial_y_train.shape)\n",
    "\n",
    "print(X_train.shape)\n",
    "\n",
    "# 모델 설계\n",
    "from tensorflow.keras.initializers import Constant\n",
    "\n",
    "vocab_size = 10000    # 어휘 사전의 크기입니다(10,000개의 단어)\n",
    "word_vector_dim = 200  # 워드 벡터의 차원수 (변경가능한 하이퍼파라미터)\n",
    "\n",
    "# 모델 구성\n",
    "model = keras.Sequential()\n",
    "model.add(keras.layers.Embedding(vocab_size, \n",
    "                                 word_vector_dim, \n",
    "                                 embeddings_initializer=Constant(embedding_matrix),  # 카피한 임베딩을 여기서 활용!!!\n",
    "                                 input_length=maxlen, \n",
    "                                 trainable=True))   \n",
    "# trainable을 True로 주면 Fine-tuning\n",
    "model.add(keras.layers.GRU(16))\n",
    "model.add(keras.layers.Dense(8, activation='relu'))\n",
    "model.add(keras.layers.Dense(1, activation='sigmoid'))\n",
    "\n",
    "model.summary()\n",
    "\n",
    "# 모델 학습\n",
    "model.compile(optimizer='adam',\n",
    "              loss='MeanSquaredLogarithmicError',\n",
    "              metrics=['accuracy'])\n",
    "\n",
    "epochs=15\n",
    "\n",
    "patial_x_train = np.asarray(partial_x_train)\n",
    "patial_y_train = np.asarray(partial_y_train)\n",
    "\n",
    "\n",
    "\n",
    "history = model.fit(X_train,\n",
    "                    y_train,\n",
    "                    epochs=epochs,\n",
    "                    batch_size=3000,\n",
    "                    validation_data=(x_val, y_val),\n",
    "                    verbose=1)\n",
    "\n",
    "# 모델 평가\n",
    "results = model.evaluate(X_test,  y_test, verbose=2)\n",
    "\n",
    "print(results)\n",
    "\n",
    "# 모델의 fitting 과정 중의 정보들이 history 변수에 저장\n",
    "history_dict = history.history\n",
    "print(history_dict.keys()) # epoch에 따른 그래프를 그려볼 수 있는 항목들\n",
    "\n",
    "# 도식화 Training and Validation loss\n",
    "import matplotlib.pyplot as plt\n",
    "\n",
    "acc = history_dict['accuracy']\n",
    "val_acc = history_dict['val_accuracy']\n",
    "loss = history_dict['loss']\n",
    "val_loss = history_dict['val_loss']\n",
    "\n",
    "epochs = range(1, len(acc) + 1)\n",
    "\n",
    "# \"bo\"는 \"파란색 점\"입니다\n",
    "plt.plot(epochs, loss, 'bo', label='Training loss')\n",
    "# b는 \"파란 실선\"입니다\n",
    "plt.plot(epochs, val_loss, 'b', label='Validation loss')\n",
    "plt.title('Training and validation loss')\n",
    "plt.xlabel('Epochs')\n",
    "plt.ylabel('Loss')\n",
    "plt.legend()\n",
    "\n",
    "plt.show()\n",
    "\n",
    "# Training and Validation accuracy\n",
    "plt.clf()   # 그림을 초기화합니다\n",
    "\n",
    "plt.plot(epochs, acc, 'bo', label='Training acc')\n",
    "plt.plot(epochs, val_acc, 'b', label='Validation acc')\n",
    "plt.title('Training and validation accuracy')\n",
    "plt.xlabel('Epochs')\n",
    "plt.ylabel('Accuracy')\n",
    "plt.legend()\n",
    "\n",
    "plt.show()"
   ]
  },
  {
   "cell_type": "markdown",
   "id": "d20ff5b4",
   "metadata": {},
   "source": [
    "# GRU, relu 스택 레이어 사용한 모델(아래)\n"
   ]
  },
  {
   "cell_type": "code",
   "execution_count": 114,
   "id": "b685fab9",
   "metadata": {},
   "outputs": [
    {
     "name": "stdout",
     "output_type": "stream",
     "text": [
      "Model: \"sequential_38\"\n",
      "_________________________________________________________________\n",
      "Layer (type)                 Output Shape              Param #   \n",
      "=================================================================\n",
      "embedding_37 (Embedding)     (None, 41, 200)           2000000   \n",
      "_________________________________________________________________\n",
      "gru_17 (GRU)                 (None, 64)                51072     \n",
      "_________________________________________________________________\n",
      "dense_57 (Dense)             (None, 8)                 520       \n",
      "_________________________________________________________________\n",
      "dense_58 (Dense)             (None, 1)                 9         \n",
      "=================================================================\n",
      "Total params: 2,051,601\n",
      "Trainable params: 2,051,601\n",
      "Non-trainable params: 0\n",
      "_________________________________________________________________\n"
     ]
    }
   ],
   "source": [
    "#어휘 사전의 크기(10,000개의 단어)\n",
    "vocab_size = 10000    \n",
    "\n",
    "#단어 하나를 표현하는 임베딩 벡터의 차원수(변경가능)\n",
    "word_vector_dim = 200\n",
    "\n",
    "#GlobalMaxPooling1D레이어 하나만 사용한 모델\n",
    "model = keras.Sequential()\n",
    "#model.add(keras.layers.Embedding(vocab_size, word_vector_dim, input_shape=(None,)))\n",
    "model.add(keras.layers.Embedding(vocab_size, \n",
    "                                 word_vector_dim, \n",
    "                                 embeddings_initializer=Constant(embedding_matrix),\n",
    "                                 # 카피한 임베딩을 여기서 활용!!! 차원늘리는거인듯 \n",
    "                                 input_length=maxlen, \n",
    "                                 trainable=True))\n",
    "\n",
    "model.add(keras.layers.GRU(64))\n",
    "\n",
    "model.add(keras.layers.Dense(8, activation='relu'))\n",
    "model.add(keras.layers.Dense(1, activation='sigmoid'))  #최종 출력은 긍정/부정을 나타내는 1dim\n",
    "\n",
    "model.summary()"
   ]
  },
  {
   "cell_type": "code",
   "execution_count": 115,
   "id": "f96edcad",
   "metadata": {},
   "outputs": [
    {
     "name": "stdout",
     "output_type": "stream",
     "text": [
      "Epoch 1/5\n",
      "208/208 [==============================] - 3s 9ms/step - loss: 0.6919 - accuracy: 0.5055 - val_loss: 0.6892 - val_accuracy: 0.5181\n",
      "Epoch 2/5\n",
      "208/208 [==============================] - 2s 8ms/step - loss: 0.4767 - accuracy: 0.7596 - val_loss: 0.3729 - val_accuracy: 0.8336\n",
      "Epoch 3/5\n",
      "208/208 [==============================] - 2s 8ms/step - loss: 0.3358 - accuracy: 0.8551 - val_loss: 0.3397 - val_accuracy: 0.8526\n",
      "Epoch 4/5\n",
      "208/208 [==============================] - 2s 8ms/step - loss: 0.2906 - accuracy: 0.8785 - val_loss: 0.3304 - val_accuracy: 0.8565\n",
      "Epoch 5/5\n",
      "208/208 [==============================] - 2s 8ms/step - loss: 0.2607 - accuracy: 0.8935 - val_loss: 0.3365 - val_accuracy: 0.8577\n"
     ]
    }
   ],
   "source": [
    "#GlobalMaxPooling1D레이어 하나만 사용한 모델 학습\n",
    "model.compile(optimizer='adam',\n",
    "             loss='binary_crossentropy',\n",
    "             metrics=['accuracy'])\n",
    "            \n",
    "epochs=5\n",
    "\n",
    "history = model.fit(partial_x_train,\n",
    "                   partial_y_train,\n",
    "                   epochs=epochs,\n",
    "                   batch_size=512,\n",
    "                   validation_data=(x_val, y_val),\n",
    "                   verbose=1)"
   ]
  },
  {
   "cell_type": "code",
   "execution_count": 116,
   "id": "96f028e1",
   "metadata": {},
   "outputs": [
    {
     "name": "stdout",
     "output_type": "stream",
     "text": [
      "1537/1537 - 3s - loss: 0.3430 - accuracy: 0.8551\n",
      "[0.3429652452468872, 0.8551172614097595]\n"
     ]
    }
   ],
   "source": [
    "results = model.evaluate(X_test,  y_test, verbose=2)\n",
    "print(results)"
   ]
  },
  {
   "cell_type": "code",
   "execution_count": 117,
   "id": "b10da443",
   "metadata": {},
   "outputs": [
    {
     "data": {
      "image/png": "[encoded data removed]",
      "text/plain": [
       "<Figure size 576x288 with 2 Axes>"
      ]
     },
     "metadata": {
      "needs_background": "light"
     },
     "output_type": "display_data"
    }
   ],
   "source": [
    "#Loss, Accuracy 그래프 시각화\n",
    "\n",
    "history_dict = history.history\n",
    "acc = history_dict['accuracy']\n",
    "val_acc = history_dict['val_accuracy']\n",
    "loss = history_dict['loss']\n",
    "val_loss = history_dict['val_loss']\n",
    "\n",
    "epochs = range(1, len(acc) + 1)\n",
    "\n",
    "# Accuracy 그래프\n",
    "plt.figure(figsize=(8, 4))\n",
    "plt.subplot(1, 2, 1)\n",
    "plt.plot(epochs, acc, label='Training Accuracy')\n",
    "plt.plot(epochs, val_acc, label='Validation Accuracy')\n",
    "plt.legend(loc='lower right')\n",
    "plt.title('Training and Validation Accuracy')\n",
    "\n",
    "# Loss 그래프\n",
    "plt.subplot(1, 2, 2)\n",
    "plt.plot(epochs, loss, label='Training Loss')\n",
    "plt.plot(epochs, val_loss, label='Validation Loss')\n",
    "plt.legend(loc='upper right')\n",
    "plt.title('Training and Validation Loss')\n",
    "plt.show()\n"
   ]
  },
  {
   "cell_type": "markdown",
   "id": "2c8fa26c",
   "metadata": {},
   "source": [
    "### validation loss의 그래프가 train loss와의 이격이 발생하게 되면 더이상의 트레이닝은 무의미해진다\n",
    "\n",
    "# 밑은 활성화함수 GELU 를 이용한 모델\n"
   ]
  },
  {
   "cell_type": "code",
   "execution_count": 75,
   "id": "cfd6b7f7",
   "metadata": {},
   "outputs": [
    {
     "name": "stdout",
     "output_type": "stream",
     "text": [
      "Model: \"sequential_17\"\n",
      "_________________________________________________________________\n",
      "Layer (type)                 Output Shape              Param #   \n",
      "=================================================================\n",
      "embedding_16 (Embedding)     (None, None, 16)          160000    \n",
      "_________________________________________________________________\n",
      "global_max_pooling1d_6 (Glob (None, 16)                0         \n",
      "_________________________________________________________________\n",
      "dense_32 (Dense)             (None, 8)                 136       \n",
      "_________________________________________________________________\n",
      "dense_33 (Dense)             (None, 1)                 9         \n",
      "=================================================================\n",
      "Total params: 160,145\n",
      "Trainable params: 160,145\n",
      "Non-trainable params: 0\n",
      "_________________________________________________________________\n"
     ]
    }
   ],
   "source": [
    "#어휘 사전의 크기(10,000개의 단어)\n",
    "vocab_size = 10000    \n",
    "\n",
    "#단어 하나를 표현하는 임베딩 벡터의 차원수(변경가능)\n",
    "word_vector_dim = 16  \n",
    "\n",
    "#GlobalMaxPooling1D레이어 하나만 사용한 모델\n",
    "model = keras.Sequential()\n",
    "model.add(keras.layers.Embedding(vocab_size, word_vector_dim, input_shape=(None,)))\n",
    "model.add(keras.layers.GlobalMaxPooling1D())\n",
    "model.add(keras.layers.Dense(8, activation='ELU'))\n",
    "model.add(keras.layers.Dense(1, activation='sigmoid'))  #최종 출력은 긍정/부정을 나타내는 1dim\n",
    "\n",
    "model.summary()"
   ]
  },
  {
   "cell_type": "code",
   "execution_count": 76,
   "id": "c00b5b46",
   "metadata": {},
   "outputs": [
    {
     "name": "stdout",
     "output_type": "stream",
     "text": [
      "Epoch 1/5\n",
      "208/208 [==============================] - 1s 4ms/step - loss: 0.5994 - accuracy: 0.7311 - val_loss: 0.4520 - val_accuracy: 0.8021\n",
      "Epoch 2/5\n",
      "208/208 [==============================] - 1s 4ms/step - loss: 0.3899 - accuracy: 0.8313 - val_loss: 0.3689 - val_accuracy: 0.8366\n",
      "Epoch 3/5\n",
      "208/208 [==============================] - 1s 4ms/step - loss: 0.3322 - accuracy: 0.8591 - val_loss: 0.3551 - val_accuracy: 0.8439\n",
      "Epoch 4/5\n",
      "208/208 [==============================] - 1s 4ms/step - loss: 0.3018 - accuracy: 0.8741 - val_loss: 0.3535 - val_accuracy: 0.8464\n",
      "Epoch 5/5\n",
      "208/208 [==============================] - 1s 4ms/step - loss: 0.2796 - accuracy: 0.8849 - val_loss: 0.3576 - val_accuracy: 0.8466\n"
     ]
    }
   ],
   "source": [
    "#GlobalMaxPooling1D레이어 하나만 사용한 모델 학습\n",
    "model.compile(optimizer='adam',\n",
    "             loss='binary_crossentropy',\n",
    "             metrics=['accuracy'])\n",
    "            \n",
    "epochs=5\n",
    "\n",
    "history = model.fit(partial_x_train,\n",
    "                   partial_y_train,\n",
    "                   epochs=epochs,\n",
    "                   batch_size=512,\n",
    "                   validation_data=(x_val, y_val),\n",
    "                   verbose=1)"
   ]
  },
  {
   "cell_type": "code",
   "execution_count": 77,
   "id": "7debba99",
   "metadata": {},
   "outputs": [
    {
     "name": "stdout",
     "output_type": "stream",
     "text": [
      "1537/1537 - 2s - loss: 0.3654 - accuracy: 0.8429\n",
      "[0.3654142916202545, 0.842870831489563]\n"
     ]
    }
   ],
   "source": [
    "results = model.evaluate(X_test,  y_test, verbose=2)\n",
    "print(results)"
   ]
  },
  {
   "cell_type": "code",
   "execution_count": 78,
   "id": "b2310fdd",
   "metadata": {},
   "outputs": [
    {
     "data": {
      "image/png": "[encoded data removed]",
      "text/plain": [
       "<Figure size 576x288 with 2 Axes>"
      ]
     },
     "metadata": {
      "needs_background": "light"
     },
     "output_type": "display_data"
    }
   ],
   "source": [
    "#Loss, Accuracy 그래프 시각화\n",
    "\n",
    "history_dict = history.history\n",
    "acc = history_dict['accuracy']\n",
    "val_acc = history_dict['val_accuracy']\n",
    "loss = history_dict['loss']\n",
    "val_loss = history_dict['val_loss']\n",
    "\n",
    "epochs = range(1, len(acc) + 1)\n",
    "\n",
    "# Accuracy 그래프\n",
    "plt.figure(figsize=(8, 4))\n",
    "plt.subplot(1, 2, 1)\n",
    "plt.plot(epochs, acc, label='Training Accuracy')\n",
    "plt.plot(epochs, val_acc, label='Validation Accuracy')\n",
    "plt.legend(loc='lower right')\n",
    "plt.title('Training and Validation Accuracy')\n",
    "\n",
    "# Loss 그래프\n",
    "plt.subplot(1, 2, 2)\n",
    "plt.plot(epochs, loss, label='Training Loss')\n",
    "plt.plot(epochs, val_loss, label='Validation Loss')\n",
    "plt.legend(loc='upper right')\n",
    "plt.title('Training and Validation Loss')\n",
    "plt.show()"
   ]
  },
  {
   "cell_type": "code",
   "execution_count": 79,
   "id": "d98fc79d",
   "metadata": {},
   "outputs": [
    {
     "name": "stdout",
     "output_type": "stream",
     "text": [
      "Model: \"sequential_18\"\n",
      "_________________________________________________________________\n",
      "Layer (type)                 Output Shape              Param #   \n",
      "=================================================================\n",
      "embedding_17 (Embedding)     (None, None, 16)          160000    \n",
      "_________________________________________________________________\n",
      "global_max_pooling1d_7 (Glob (None, 16)                0         \n",
      "_________________________________________________________________\n",
      "dense_34 (Dense)             (None, 8)                 136       \n",
      "_________________________________________________________________\n",
      "dense_35 (Dense)             (None, 8)                 72        \n",
      "_________________________________________________________________\n",
      "dense_36 (Dense)             (None, 1)                 9         \n",
      "=================================================================\n",
      "Total params: 160,217\n",
      "Trainable params: 160,217\n",
      "Non-trainable params: 0\n",
      "_________________________________________________________________\n"
     ]
    }
   ],
   "source": [
    "#어휘 사전의 크기(10,000개의 단어)\n",
    "vocab_size = 10000    \n",
    "\n",
    "#단어 하나를 표현하는 임베딩 벡터의 차원수(변경가능)\n",
    "word_vector_dim = 16  \n",
    "\n",
    "#GlobalMaxPooling1D레이어 하나만 사용한 모델\n",
    "model = keras.Sequential()\n",
    "model.add(keras.layers.Embedding(vocab_size, word_vector_dim, input_shape=(None,)))\n",
    "model.add(keras.layers.GlobalMaxPooling1D())\n",
    "model.add(keras.layers.Dense(8, activation='ELU'))\n",
    "\n",
    "model.add(keras.layers.Dense(8, activation='ELU'))\n",
    "model.add(keras.layers.Dense(1, activation='sigmoid'))  #최종 출력은 긍정/부정을 나타내는 1dim\n",
    "\n",
    "model.summary()"
   ]
  },
  {
   "cell_type": "code",
   "execution_count": 80,
   "id": "44e23a48",
   "metadata": {},
   "outputs": [
    {
     "name": "stdout",
     "output_type": "stream",
     "text": [
      "Epoch 1/5\n",
      "208/208 [==============================] - 1s 4ms/step - loss: 0.5423 - accuracy: 0.7587 - val_loss: 0.3850 - val_accuracy: 0.8295\n",
      "Epoch 2/5\n",
      "208/208 [==============================] - 1s 4ms/step - loss: 0.3496 - accuracy: 0.8491 - val_loss: 0.3547 - val_accuracy: 0.8441\n",
      "Epoch 3/5\n",
      "208/208 [==============================] - 1s 4ms/step - loss: 0.3044 - accuracy: 0.8732 - val_loss: 0.3531 - val_accuracy: 0.8471\n",
      "Epoch 4/5\n",
      "208/208 [==============================] - 1s 4ms/step - loss: 0.2746 - accuracy: 0.8880 - val_loss: 0.3612 - val_accuracy: 0.8472\n",
      "Epoch 5/5\n",
      "208/208 [==============================] - 1s 4ms/step - loss: 0.2512 - accuracy: 0.9002 - val_loss: 0.3756 - val_accuracy: 0.8439\n"
     ]
    }
   ],
   "source": [
    "#GlobalMaxPooling1D레이어 하나만 사용한 모델 학습\n",
    "model.compile(optimizer='adam',\n",
    "             loss='binary_crossentropy',\n",
    "             metrics=['accuracy'])\n",
    "            \n",
    "epochs=5\n",
    "\n",
    "history = model.fit(partial_x_train,\n",
    "                   partial_y_train,\n",
    "                   epochs=epochs,\n",
    "                   batch_size=512,\n",
    "                   validation_data=(x_val, y_val),\n",
    "                   verbose=1)"
   ]
  },
  {
   "cell_type": "code",
   "execution_count": 81,
   "id": "2c4b97b9",
   "metadata": {},
   "outputs": [
    {
     "name": "stdout",
     "output_type": "stream",
     "text": [
      "1537/1537 - 2s - loss: 0.3839 - accuracy: 0.8409\n",
      "[0.38390836119651794, 0.8409178853034973]\n"
     ]
    }
   ],
   "source": [
    "results = model.evaluate(X_test,  y_test, verbose=2)\n",
    "print(results)"
   ]
  },
  {
   "cell_type": "code",
   "execution_count": 82,
   "id": "f3924e8a",
   "metadata": {},
   "outputs": [
    {
     "data": {
      "image/png": "[encoded data removed]",
      "text/plain": [
       "<Figure size 576x288 with 2 Axes>"
      ]
     },
     "metadata": {
      "needs_background": "light"
     },
     "output_type": "display_data"
    }
   ],
   "source": [
    "#Loss, Accuracy 그래프 시각화\n",
    "\n",
    "history_dict = history.history\n",
    "acc = history_dict['accuracy']\n",
    "val_acc = history_dict['val_accuracy']\n",
    "loss = history_dict['loss']\n",
    "val_loss = history_dict['val_loss']\n",
    "\n",
    "epochs = range(1, len(acc) + 1)\n",
    "\n",
    "# Accuracy 그래프\n",
    "plt.figure(figsize=(8, 4))\n",
    "plt.subplot(1, 2, 1)\n",
    "plt.plot(epochs, acc, label='Training Accuracy')\n",
    "plt.plot(epochs, val_acc, label='Validation Accuracy')\n",
    "plt.legend(loc='lower right')\n",
    "plt.title('Training and Validation Accuracy')\n",
    "\n",
    "# Loss 그래프\n",
    "plt.subplot(1, 2, 2)\n",
    "plt.plot(epochs, loss, label='Training Loss')\n",
    "plt.plot(epochs, val_loss, label='Validation Loss')\n",
    "plt.legend(loc='upper right')\n",
    "plt.title('Training and Validation Loss')\n",
    "plt.show()"
   ]
  },
  {
   "cell_type": "code",
   "execution_count": null,
   "id": "1fb40f49",
   "metadata": {},
   "outputs": [],
   "source": []
  },
  {
   "cell_type": "code",
   "execution_count": null,
   "id": "bb73b074",
   "metadata": {},
   "outputs": [],
   "source": []
  }
 ],
 "metadata": {
  "kernelspec": {
   "display_name": "Python 3 (ipykernel)",
   "language": "python",
   "name": "python3"
  },
  "language_info": {
   "codemirror_mode": {
    "name": "ipython",
    "version": 3
   },
   "file_extension": ".py",
   "mimetype": "text/x-python",
   "name": "python",
   "nbconvert_exporter": "python",
   "pygments_lexer": "ipython3",
   "version": "3.9.7"
  }
 },
 "nbformat": 4,
 "nbformat_minor": 5
}
