{
 "cells": [
  {
   "cell_type": "code",
   "execution_count": 12,
   "id": "d4c4ca4a",
   "metadata": {},
   "outputs": [
    {
     "data": {
      "text/html": [
       "<div>\n",
       "<style scoped>\n",
       "    .dataframe tbody tr th:only-of-type {\n",
       "        vertical-align: middle;\n",
       "    }\n",
       "\n",
       "    .dataframe tbody tr th {\n",
       "        vertical-align: top;\n",
       "    }\n",
       "\n",
       "    .dataframe thead th {\n",
       "        text-align: right;\n",
       "    }\n",
       "</style>\n",
       "<table border=\"1\" class=\"dataframe\">\n",
       "  <thead>\n",
       "    <tr style=\"text-align: right;\">\n",
       "      <th></th>\n",
       "      <th>id</th>\n",
       "      <th>document</th>\n",
       "      <th>label</th>\n",
       "    </tr>\n",
       "  </thead>\n",
       "  <tbody>\n",
       "    <tr>\n",
       "      <th>0</th>\n",
       "      <td>9976970</td>\n",
       "      <td>아 더빙.. 진짜 짜증나네요 목소리</td>\n",
       "      <td>0</td>\n",
       "    </tr>\n",
       "    <tr>\n",
       "      <th>1</th>\n",
       "      <td>3819312</td>\n",
       "      <td>흠...포스터보고 초딩영화줄....오버연기조차 가볍지 않구나</td>\n",
       "      <td>1</td>\n",
       "    </tr>\n",
       "    <tr>\n",
       "      <th>2</th>\n",
       "      <td>10265843</td>\n",
       "      <td>너무재밓었다그래서보는것을추천한다</td>\n",
       "      <td>0</td>\n",
       "    </tr>\n",
       "    <tr>\n",
       "      <th>3</th>\n",
       "      <td>9045019</td>\n",
       "      <td>교도소 이야기구먼 ..솔직히 재미는 없다..평점 조정</td>\n",
       "      <td>0</td>\n",
       "    </tr>\n",
       "    <tr>\n",
       "      <th>4</th>\n",
       "      <td>6483659</td>\n",
       "      <td>사이몬페그의 익살스런 연기가 돋보였던 영화!스파이더맨에서 늙어보이기만 했던 커스틴 ...</td>\n",
       "      <td>1</td>\n",
       "    </tr>\n",
       "  </tbody>\n",
       "</table>\n",
       "</div>"
      ],
      "text/plain": [
       "         id                                           document  label\n",
       "0   9976970                                아 더빙.. 진짜 짜증나네요 목소리      0\n",
       "1   3819312                  흠...포스터보고 초딩영화줄....오버연기조차 가볍지 않구나      1\n",
       "2  10265843                                  너무재밓었다그래서보는것을추천한다      0\n",
       "3   9045019                      교도소 이야기구먼 ..솔직히 재미는 없다..평점 조정      0\n",
       "4   6483659  사이몬페그의 익살스런 연기가 돋보였던 영화!스파이더맨에서 늙어보이기만 했던 커스틴 ...      1"
      ]
     },
     "execution_count": 12,
     "metadata": {},
     "output_type": "execute_result"
    }
   ],
   "source": [
    "import pandas as pd\n",
    "\n",
    "# 데이터를 읽어봅시다. \n",
    "train_data = pd.read_table('~/aiffel/sentiment_classification/data/ratings_train.txt')\n",
    "test_data = pd.read_table('~/aiffel/sentiment_classification/data/ratings_test.txt')\n",
    "\n",
    "train_data.head()"
   ]
  },
  {
   "cell_type": "code",
   "execution_count": 13,
   "id": "714b6240",
   "metadata": {},
   "outputs": [],
   "source": [
    "from konlpy.tag import Mecab\n",
    "import numpy as np\n",
    "from collections import Counter\n",
    "\n",
    "tokenizer = Mecab()#형태소 토큰화 여기서는 형태소 분석기 중에서 mecab을 사용해보겠습니다\n",
    "stopwords = ['의','가','이','은','들','는','좀','잘','걍','과','도','를','으로','자','에','와','한','하다']\n",
    "\n",
    "def load_data(train_data, test_data, num_words=10000):\n",
    "    train_data.drop_duplicates(subset=['document'], inplace=True)\n",
    "    train_data = train_data.dropna(how = 'any') \n",
    "    test_data.drop_duplicates(subset=['document'], inplace=True)\n",
    "    test_data = test_data.dropna(how = 'any') \n",
    "    \n",
    "    X_train = []\n",
    "    for sentence in train_data['document']:\n",
    "        temp_X = tokenizer.morphs(sentence) # 토큰화\n",
    "        temp_X = [word for word in temp_X if not word in stopwords] # 불용어 제거 word for word 질문 ? \n",
    "        X_train.append(temp_X)\n",
    "\n",
    "    X_test = []\n",
    "    for sentence in test_data['document']:\n",
    "        temp_X = tokenizer.morphs(sentence) # 토큰화\n",
    "        temp_X = [word for word in temp_X if not word in stopwords] # 불용어 제거\n",
    "        X_test.append(temp_X)\n",
    "    \n",
    "    words = np.concatenate(X_train).tolist()#같은 레벨에 있는 데이터끼리 묶어준다 \n",
    "    counter = Counter(words)##[a,'b']\n",
    "    counter = counter.most_common(10000-4)\n",
    "    \n",
    "    vocab = ['', '', '', ''] + [key for key, _ in counter]\n",
    "    word_to_index = {word:index for index, word in enumerate(vocab)} #사전 구성\n",
    "        \n",
    "    def wordlist_to_indexlist(wordlist): # 텍스트 스트링을 인덱스 스트링으로 변환 \n",
    "        return [word_to_index[word] if word in word_to_index else word_to_index[''] for word in wordlist]\n",
    "        \n",
    "    X_train = list(map(wordlist_to_indexlist, X_train))\n",
    "    X_test = list(map(wordlist_to_indexlist, X_test))\n",
    "        \n",
    "    return X_train, np.array(list(train_data['label'])), X_test, np.array(list(test_data['label'])), word_to_index\n",
    "    \n",
    "X_train, y_train, X_test, y_test, word_to_index = load_data(train_data, test_data)"
   ]
  },
  {
   "cell_type": "code",
   "execution_count": 14,
   "id": "66cf43a8",
   "metadata": {},
   "outputs": [
    {
     "name": "stdout",
     "output_type": "stream",
     "text": [
      "\n"
     ]
    }
   ],
   "source": [
    "index_to_word = {index:word for word, index in word_to_index.items()}\n",
    "print(index_to_word[3])\n",
    "\n"
   ]
  },
  {
   "cell_type": "code",
   "execution_count": 15,
   "id": "84585301",
   "metadata": {},
   "outputs": [
    {
     "name": "stdout",
     "output_type": "stream",
     "text": [
      "<굳>\n",
      "493\n",
      "<떽>\n"
     ]
    }
   ],
   "source": [
    "#실제 인코딩 인덱스는 제공된 word_to_index에서 index 기준으로 3씩 뒤로 밀려 있습니다.  \n",
    "word_to_index = {k:(v+3) for k,v in word_to_index.items()}\n",
    "\n",
    "# 처음 몇 개 인덱스는 사전에 정의되어 있습니다\n",
    "word_to_index[\"<PAD>\"] = 0\n",
    "word_to_index[\"<굳>\"] = 1\n",
    "word_to_index[\"<떽>\"] = 2  # unknown\n",
    "word_to_index[\"<라>\"] = 3\n",
    "\n",
    "index_to_word = {index:word for word, index in word_to_index.items()}\n",
    "\n",
    "print(index_to_word[1])     # '<BOS>' 가 출력됩니다. \n",
    "print(word_to_index['오늘'])  # 4 이 출력됩니다. \n",
    "print(index_to_word[2])     # 'the' 가 출력됩니다."
   ]
  },
  {
   "cell_type": "code",
   "execution_count": 16,
   "id": "56c7e3e4",
   "metadata": {},
   "outputs": [
    {
     "name": "stdout",
     "output_type": "stream",
     "text": [
      "문장길이 평균 :  15.96940191154864\n",
      "문장길이 최대 :  116\n",
      "문장길이 표준편차 :  12.843571191092\n",
      "pad_sequences maxlen :  41\n",
      "전체 문장의 0.9342988343341575%가 maxlen 설정값 이내에 포함됩니다. \n"
     ]
    }
   ],
   "source": [
    "total_data_text = list(X_train) + list(X_test)\n",
    "# 텍스트데이터 문장길이의 리스트를 생성한 후\n",
    "num_tokens = [len(tokens) for tokens in total_data_text]\n",
    "num_tokens = np.array(num_tokens)\n",
    "# 문장길이의 평균값, 최대값, 표준편차를 계산해 본다. \n",
    "print('문장길이 평균 : ', np.mean(num_tokens))\n",
    "print('문장길이 최대 : ', np.max(num_tokens))\n",
    "print('문장길이 표준편차 : ', np.std(num_tokens))\n",
    "\n",
    "# 예를들어, 최대 길이를 (평균 + 2*표준편차)로 한다면,  \n",
    "max_tokens = np.mean(num_tokens) + 2 * np.std(num_tokens)\n",
    "maxlen = int(max_tokens)\n",
    "print('pad_sequences maxlen : ', maxlen)\n",
    "print('전체 문장의 {}%가 maxlen 설정값 이내에 포함됩니다. '.format(np.sum(num_tokens < max_tokens) / len(num_tokens)))"
   ]
  },
  {
   "cell_type": "code",
   "execution_count": 17,
   "id": "b4f02853",
   "metadata": {},
   "outputs": [
    {
     "name": "stdout",
     "output_type": "stream",
     "text": [
      "(146182, 41)\n"
     ]
    }
   ],
   "source": [
    "\n",
    "import numpy as np\n",
    "import tensorflow as tf\n",
    "import os\n",
    "\n",
    "X_train = tf.keras.preprocessing.sequence.pad_sequences(X_train,\n",
    "                                                        value=word_to_index[\"<PAD>\"],\n",
    "                                                        padding='post', # 혹은 'pre'\n",
    "                                                        maxlen=maxlen)\n",
    "\n",
    "X_test = tf.keras.preprocessing.sequence.pad_sequences(X_test,\n",
    "                                                       value=word_to_index[\"<PAD>\"],\n",
    "                                                       padding='post', # 혹은 'pre'\n",
    "                                                       maxlen=maxlen)\n",
    "\n",
    "print(X_train.shape)\n",
    "\n"
   ]
  },
  {
   "cell_type": "code",
   "execution_count": 52,
   "id": "8696af0d",
   "metadata": {},
   "outputs": [
    {
     "name": "stdout",
     "output_type": "stream",
     "text": [
      "Model: \"sequential_5\"\n",
      "_________________________________________________________________\n",
      "Layer (type)                 Output Shape              Param #   \n",
      "=================================================================\n",
      "embedding_5 (Embedding)      (None, None, 40)          1200000   \n",
      "_________________________________________________________________\n",
      "conv1d_10 (Conv1D)           (None, None, 128)         35968     \n",
      "_________________________________________________________________\n",
      "gru_15 (GRU)                 (None, None, 64)          37248     \n",
      "_________________________________________________________________\n",
      "conv1d_11 (Conv1D)           (None, None, 128)         57472     \n",
      "_________________________________________________________________\n",
      "dense_10 (Dense)             (None, None, 8)           1032      \n",
      "_________________________________________________________________\n",
      "dense_11 (Dense)             (None, None, 1)           9         \n",
      "=================================================================\n",
      "Total params: 1,331,729\n",
      "Trainable params: 1,331,729\n",
      "Non-trainable params: 0\n",
      "_________________________________________________________________\n"
     ]
    }
   ],
   "source": [
    "vocab_size = 30000    # 어휘 사전의 크기입니다(10,000개의 단어)\n",
    "word_vector_dim = 40  # 워드 벡터의 차원 수 (변경 가능한 하이퍼파라미터)\n",
    "from tensorflow.keras import regularizers\n",
    "\n",
    "tf.keras.regularizers.l2(l2=0.04)\n",
    "# model 설계 - 딥러닝 모델 코드를 직접 작성해 주세요.\n",
    "model = tf.keras.Sequential()\n",
    "model.add(tf.keras.layers.Embedding(vocab_size, word_vector_dim, input_shape=(None,)))\n",
    "\n",
    "#word_vector_dim 이 값이 128이라면 단어를 128차원의 의미론적 기하공간에 나타낸다는 의미입니다.\n",
    "# model.add(tf.keras.layers.Conv1D(16, 7, activation='relu'))\n",
    "# model.add(tf.keras.layers.MaxPooling1D(3))\n",
    "model.add(tf.keras.layers.Conv1D(128, 7, padding='valid',activation='relu',strides=1))\n",
    "\n",
    "model.add(tf.keras.layers.GRU(64, return_sequences=True))\n",
    "\n",
    "model.add(tf.keras.layers.Conv1D(128, 7, padding='valid',activation='relu',strides=1))\n",
    "model.add(tf.keras.layers.Dense(8, activation='relu',kernel_regularizer='l2'))\n",
    "\n",
    "model.add(tf.keras.layers.Dense(1, activation='sigmoid'))  # 최종 출력은 긍정/부정을 나타내는 1dim 입니다.\n",
    "\n",
    "model.summary()\n"
   ]
  },
  {
   "cell_type": "code",
   "execution_count": 53,
   "id": "3769edcb",
   "metadata": {},
   "outputs": [
    {
     "name": "stdout",
     "output_type": "stream",
     "text": [
      "(46182, 41)\n",
      "(46182,)\n"
     ]
    }
   ],
   "source": [
    "# validation set 10000건 분리\n",
    "x_val = X_train[:100000]   \n",
    "y_val = y_train[:100000]\n",
    "\n",
    "# validation set을 제외한 나머지 15000건\n",
    "partial_x_train = X_train[100000:]  \n",
    "partial_y_train = y_train[100000:]\n",
    "\n",
    "print(partial_x_train.shape)\n",
    "print(partial_y_train.shape)"
   ]
  },
  {
   "cell_type": "markdown",
   "id": "8e331b5d",
   "metadata": {},
   "source": [
    "# Y 의 형태는 x 의 쉐잎보다 차원이 낮다는 점을 명심한다 "
   ]
  },
  {
   "cell_type": "code",
   "execution_count": 54,
   "id": "601ab570",
   "metadata": {},
   "outputs": [
    {
     "name": "stdout",
     "output_type": "stream",
     "text": [
      "Epoch 1/12\n",
      "722/722 [==============================] - 13s 14ms/step - loss: 0.4629 - accuracy: 0.7814 - val_loss: 0.3702 - val_accuracy: 0.8356\n",
      "Epoch 2/12\n",
      "722/722 [==============================] - 10s 13ms/step - loss: 0.3101 - accuracy: 0.8695 - val_loss: 0.3723 - val_accuracy: 0.8396\n",
      "Epoch 3/12\n",
      "722/722 [==============================] - 10s 13ms/step - loss: 0.2346 - accuracy: 0.9048 - val_loss: 0.3984 - val_accuracy: 0.8326\n",
      "Epoch 4/12\n",
      "722/722 [==============================] - 10s 13ms/step - loss: 0.1651 - accuracy: 0.9370 - val_loss: 0.4913 - val_accuracy: 0.8276\n",
      "Epoch 5/12\n",
      "722/722 [==============================] - 10s 13ms/step - loss: 0.1153 - accuracy: 0.9579 - val_loss: 0.5529 - val_accuracy: 0.8217\n",
      "Epoch 6/12\n",
      "722/722 [==============================] - 10s 13ms/step - loss: 0.0832 - accuracy: 0.9696 - val_loss: 0.6298 - val_accuracy: 0.8174\n",
      "Epoch 7/12\n",
      "722/722 [==============================] - 10s 13ms/step - loss: 0.0651 - accuracy: 0.9767 - val_loss: 0.6952 - val_accuracy: 0.8160\n",
      "Epoch 8/12\n",
      "722/722 [==============================] - 10s 14ms/step - loss: 0.0509 - accuracy: 0.9820 - val_loss: 0.8714 - val_accuracy: 0.8121\n",
      "Epoch 9/12\n",
      "722/722 [==============================] - 10s 13ms/step - loss: 0.0415 - accuracy: 0.9854 - val_loss: 0.8861 - val_accuracy: 0.8119\n",
      "Epoch 10/12\n",
      "722/722 [==============================] - 10s 13ms/step - loss: 0.0360 - accuracy: 0.9872 - val_loss: 0.8093 - val_accuracy: 0.8112\n",
      "Epoch 11/12\n",
      "722/722 [==============================] - 10s 13ms/step - loss: 0.0297 - accuracy: 0.9895 - val_loss: 1.0427 - val_accuracy: 0.8148\n",
      "Epoch 12/12\n",
      "722/722 [==============================] - 10s 13ms/step - loss: 0.0265 - accuracy: 0.9904 - val_loss: 0.9645 - val_accuracy: 0.8080\n"
     ]
    }
   ],
   "source": [
    "model.compile(optimizer='adam',\n",
    "              loss='binary_crossentropy',\n",
    "              metrics=['accuracy'])\n",
    "              \n",
    "epochs=12  # 몇 epoch를 훈련하면 좋을지 결과를 보면서 바꾸어 봅시다. \n",
    "\n",
    "history = model.fit(partial_x_train,\n",
    "                    partial_y_train,\n",
    "                    epochs=epochs,\n",
    "                    batch_size=64,\n",
    "                    validation_data=(x_val, y_val),\n",
    "                    verbose=1)"
   ]
  },
  {
   "cell_type": "code",
   "execution_count": 55,
   "id": "12707ea9",
   "metadata": {},
   "outputs": [
    {
     "name": "stdout",
     "output_type": "stream",
     "text": [
      "1537/1537 - 5s - loss: 0.9811 - accuracy: 0.8058\n",
      "[0.9810857176780701, 0.8058376908302307]\n"
     ]
    }
   ],
   "source": [
    "results = model.evaluate(X_test,  y_test, verbose=2)\n",
    "\n",
    "print(results)"
   ]
  },
  {
   "cell_type": "code",
   "execution_count": 56,
   "id": "6e72968a",
   "metadata": {},
   "outputs": [
    {
     "name": "stdout",
     "output_type": "stream",
     "text": [
      "dict_keys(['loss', 'accuracy', 'val_loss', 'val_accuracy'])\n"
     ]
    }
   ],
   "source": [
    "history_dict = history.history\n",
    "print(history_dict.keys()) # epoch에 따른 그래프를 그려볼 수 있는 항목들"
   ]
  },
  {
   "cell_type": "code",
   "execution_count": 57,
   "id": "8324094d",
   "metadata": {},
   "outputs": [
    {
     "data": {
      "image/png": "[encoded data removed]",
      "text/plain": [
       "<Figure size 432x288 with 1 Axes>"
      ]
     },
     "metadata": {
      "needs_background": "light"
     },
     "output_type": "display_data"
    }
   ],
   "source": [
    "import matplotlib.pyplot as plt\n",
    "\n",
    "acc = history_dict['accuracy']\n",
    "val_acc = history_dict['val_accuracy']\n",
    "loss = history_dict['loss']\n",
    "val_loss = history_dict['val_loss']\n",
    "\n",
    "epochs = range(1, len(acc) + 1)\n",
    "\n",
    "# \"bo\"는 \"파란색 점\"입니다\n",
    "plt.plot(epochs, loss, 'bo', label='Training loss') #X 축 , y 축 으로 타이핑  \n",
    "# b는 \"파란 실선\"입니다\n",
    "plt.plot(epochs, val_loss, 'b', label='Validation loss')\n",
    "plt.title('Training and validation loss')\n",
    "plt.xlabel('Epochs')\n",
    "plt.ylabel('Loss')\n",
    "plt.legend()\n",
    "\n",
    "plt.show()"
   ]
  },
  {
   "cell_type": "code",
   "execution_count": 58,
   "id": "6d038a91",
   "metadata": {},
   "outputs": [
    {
     "data": {
      "image/png": "[encoded data removed]",
      "text/plain": [
       "<Figure size 432x288 with 1 Axes>"
      ]
     },
     "metadata": {
      "needs_background": "light"
     },
     "output_type": "display_data"
    }
   ],
   "source": [
    "plt.clf()   # 그림을 초기화합니다\n",
    "\n",
    "plt.plot(epochs, acc, 'bo', label='Training acc')\n",
    "plt.plot(epochs, val_acc, 'b', label='Validation acc')\n",
    "plt.title('Training and validation accuracy')\n",
    "plt.xlabel('Epochs')\n",
    "plt.ylabel('Accuracy')\n",
    "plt.legend()\n",
    "\n",
    "plt.show()"
   ]
  },
  {
   "cell_type": "code",
   "execution_count": 59,
   "id": "834d34b0",
   "metadata": {},
   "outputs": [
    {
     "name": "stdout",
     "output_type": "stream",
     "text": [
      "(30000, 40)\n"
     ]
    }
   ],
   "source": [
    "embedding_layer = model.layers[0]\n",
    "weights = embedding_layer.get_weights()[0]\n",
    "print(weights.shape)    # shape: (vocab_size, embedding_dim)"
   ]
  },
  {
   "cell_type": "code",
   "execution_count": 60,
   "id": "f8d3c638",
   "metadata": {},
   "outputs": [],
   "source": [
    "# 학습한 Embedding 파라미터를 파일에 써서 저장합니다. \n",
    "\n"
   ]
  },
  {
   "cell_type": "code",
   "execution_count": null,
   "id": "ce381c3f",
   "metadata": {},
   "outputs": [],
   "source": []
  },
  {
   "cell_type": "code",
   "execution_count": null,
   "id": "9e043b4c",
   "metadata": {},
   "outputs": [],
   "source": []
  },
  {
   "cell_type": "code",
   "execution_count": 61,
   "id": "93d51f0b",
   "metadata": {},
   "outputs": [],
   "source": [
    "gensim.__version__\n",
    "from gensim.models import KeyedVectors"
   ]
  },
  {
   "cell_type": "code",
   "execution_count": 62,
   "id": "e331ed1f",
   "metadata": {},
   "outputs": [
    {
     "name": "stdout",
     "output_type": "stream",
     "text": [
      "[('사랑', 0.6759077310562134), ('기쁨', 0.6493781805038452), ('즐거움', 0.6396492719650269), ('삶', 0.6299898028373718), ('젊음', 0.6187379360198975), ('즐겁', 0.6027448177337646), ('인생', 0.6002243161201477), ('존엄', 0.5952589511871338), ('고독', 0.5938762426376343), ('불행', 0.5894461870193481)]\n",
      "------------------------------------------------------------------------------------------\n",
      "[('사랑', 0.6759077310562134), ('기쁨', 0.6493781805038452), ('즐거움', 0.6396492719650269), ('삶', 0.6299898028373718), ('젊음', 0.6187379360198975), ('즐겁', 0.6027448177337646), ('인생', 0.6002243161201477), ('존엄', 0.5952589511871338), ('고독', 0.5938762426376343), ('불행', 0.5894461870193481)]\n",
      "------------------------------------------------------------------------------------------\n",
      "[('상승', 0.8115789294242859), ('급락', 0.7797585725784302), ('급등', 0.7704669833183289), ('폭등', 0.756759524345398), ('폭락', 0.7319166660308838), ('감소', 0.7212550044059753), ('증가', 0.6945136785507202), ('저하', 0.6796392798423767), ('상승률', 0.6793742179870605), ('급감', 0.6755764484405518)]\n",
      "------------------------------------------------------------------------------------------\n"
     ]
    },
    {
     "name": "stderr",
     "output_type": "stream",
     "text": [
      "/tmp/ipykernel_287/632372507.py:24: DeprecationWarning: Call to deprecated `__contains__` (Method will be removed in 4.0.0, use self.wv.__contains__() instead).\n",
      "  if index_to_word[i] in word2vec:\n",
      "/tmp/ipykernel_287/632372507.py:25: DeprecationWarning: Call to deprecated `__getitem__` (Method will be removed in 4.0.0, use self.wv.__getitem__() instead).\n",
      "  embedding_matrix[i] = word2vec[index_to_word[i]]\n"
     ]
    }
   ],
   "source": [
    "from tensorflow.keras.initializers import Constant\n",
    "# 임베딩 레이어 변경\n",
    "vocab_size = 10000    # 어휘 사전의 크기입니다(10,000개의 단어)\n",
    "word_vector_dim = 200  # 워드 벡터의 차원수 (변경가능한 하이퍼파라미터)\n",
    "\n",
    "# 학습한 Embedding 파라미터를 파일에 써서 저장합니다. \n",
    "from gensim.models import Word2Vec\n",
    "from gensim.models import KeyedVectors\n",
    "import gensim\n",
    "import numpy as np\n",
    "import keras\n",
    "from gensim.models.keyedvectors import Word2VecKeyedVectors\n",
    "\n",
    "word2vec_path = os.getenv('HOME')+'/aiffel/ko.bin'\n",
    "\n",
    "word2vec = gensim.models.Word2Vec.load(word2vec_path) \n",
    "#pretrained word embedding\n",
    "#이미 주어진 모델로 워드 벡터로 활용 \n",
    "embedding_matrix = np.random.rand(vocab_size, word_vector_dim)\n",
    "#이부분이 가장 어려운 부분이었다\n",
    "\n",
    "#embedding_matrix에 Word2Vec 워드벡터를 단어 하나씩 차례대로 카피\n",
    "for i in range(9,vocab_size):\n",
    "    if index_to_word[i] in word2vec:\n",
    "        embedding_matrix[i] = word2vec[index_to_word[i]]\n",
    "\n",
    "\n",
    "p1 = word2vec.wv.most_similar(\"행복\") \n",
    "print(p1)\n",
    "print('-'*90)\n",
    "p2 = word2vec.wv.most_similar(\"주식\") \n",
    "print(p1)\n",
    "print('-'*90)\n",
    "p3 =  word2vec.wv.most_similar(\"하락\")\n",
    "print(p3)\n",
    "print('-'*90)\n",
    "# for i in range(4,vocab_size):\n",
    "#     if index_to_word[i] in word2vec:\n",
    "#         embedding_matrix[i] = word2vec[index_to_word[i]]\n",
    "\n",
    "# word_vectors = Word2VecKeyedVectors.load_word2vec_format(word2vec_path, binary=False)\n",
    "# vector = word_vectors['한']\n",
    "# vector"
   ]
  },
  {
   "cell_type": "markdown",
   "id": "fafce14d",
   "metadata": {},
   "source": [
    "# Bidirectional LSTM 시험 GRU 보다 더 좋음이 확인되었다!\n"
   ]
  },
  {
   "cell_type": "code",
   "execution_count": 73,
   "id": "fab79eef",
   "metadata": {},
   "outputs": [
    {
     "name": "stdout",
     "output_type": "stream",
     "text": [
      "(106182, 41)\n",
      "(106182,)\n",
      "(146182, 41)\n",
      "Model: \"sequential_15\"\n",
      "_________________________________________________________________\n",
      "Layer (type)                 Output Shape              Param #   \n",
      "=================================================================\n",
      "embedding_15 (Embedding)     (None, 41, 200)           2000000   \n",
      "_________________________________________________________________\n",
      "bidirectional_11 (Bidirectio (None, 41, 128)           135680    \n",
      "_________________________________________________________________\n",
      "bidirectional_12 (Bidirectio (None, 41, 64)            41216     \n",
      "_________________________________________________________________\n",
      "bidirectional_13 (Bidirectio (None, 41, 32)            10368     \n",
      "_________________________________________________________________\n",
      "dense_22 (Dense)             (None, 41, 8)             264       \n",
      "_________________________________________________________________\n",
      "dense_23 (Dense)             (None, 41, 1)             9         \n",
      "=================================================================\n",
      "Total params: 2,187,537\n",
      "Trainable params: 2,187,537\n",
      "Non-trainable params: 0\n",
      "_________________________________________________________________\n",
      "Epoch 1/17\n",
      "418/418 [==============================] - 17s 26ms/step - loss: 0.1147 - accuracy: 0.7579 - val_loss: 0.0617 - val_accuracy: 0.8333\n",
      "Epoch 2/17\n",
      "418/418 [==============================] - 9s 22ms/step - loss: 0.0562 - accuracy: 0.8466 - val_loss: 0.0491 - val_accuracy: 0.8552\n",
      "Epoch 3/17\n",
      "418/418 [==============================] - 9s 22ms/step - loss: 0.0474 - accuracy: 0.8708 - val_loss: 0.0412 - val_accuracy: 0.8904\n",
      "Epoch 4/17\n",
      "418/418 [==============================] - 9s 23ms/step - loss: 0.0430 - accuracy: 0.8838 - val_loss: 0.0368 - val_accuracy: 0.9014\n",
      "Epoch 5/17\n",
      "418/418 [==============================] - 9s 22ms/step - loss: 0.0392 - accuracy: 0.8946 - val_loss: 0.0344 - val_accuracy: 0.9080\n",
      "Epoch 6/17\n",
      "418/418 [==============================] - 9s 22ms/step - loss: 0.0359 - accuracy: 0.9055 - val_loss: 0.0303 - val_accuracy: 0.9247\n",
      "Epoch 7/17\n",
      "418/418 [==============================] - 9s 23ms/step - loss: 0.0329 - accuracy: 0.9144 - val_loss: 0.0279 - val_accuracy: 0.9328\n",
      "Epoch 8/17\n",
      "418/418 [==============================] - 9s 22ms/step - loss: 0.0302 - accuracy: 0.9228 - val_loss: 0.0259 - val_accuracy: 0.9379\n",
      "Epoch 9/17\n",
      "418/418 [==============================] - 9s 22ms/step - loss: 0.0278 - accuracy: 0.9297 - val_loss: 0.0236 - val_accuracy: 0.9428\n",
      "Epoch 10/17\n",
      "418/418 [==============================] - 9s 22ms/step - loss: 0.0259 - accuracy: 0.9360 - val_loss: 0.0227 - val_accuracy: 0.9415\n",
      "Epoch 11/17\n",
      "418/418 [==============================] - 9s 22ms/step - loss: 0.0236 - accuracy: 0.9425 - val_loss: 0.0203 - val_accuracy: 0.9533\n",
      "Epoch 12/17\n",
      "418/418 [==============================] - 9s 22ms/step - loss: 0.0225 - accuracy: 0.9456 - val_loss: 0.0203 - val_accuracy: 0.9489\n",
      "Epoch 13/17\n",
      "418/418 [==============================] - 9s 23ms/step - loss: 0.0210 - accuracy: 0.9498 - val_loss: 0.0222 - val_accuracy: 0.9492\n",
      "Epoch 14/17\n",
      "418/418 [==============================] - 9s 22ms/step - loss: 0.0199 - accuracy: 0.9528 - val_loss: 0.0181 - val_accuracy: 0.9558\n",
      "Epoch 15/17\n",
      "418/418 [==============================] - 9s 22ms/step - loss: 0.0186 - accuracy: 0.9567 - val_loss: 0.0184 - val_accuracy: 0.9582\n",
      "Epoch 16/17\n",
      "418/418 [==============================] - 9s 22ms/step - loss: 0.0180 - accuracy: 0.9582 - val_loss: 0.0159 - val_accuracy: 0.9639\n",
      "Epoch 17/17\n",
      "418/418 [==============================] - 9s 22ms/step - loss: 0.0174 - accuracy: 0.9598 - val_loss: 0.0150 - val_accuracy: 0.9660\n",
      "1537/1537 - 10s - loss: 0.0604 - accuracy: 0.8541\n",
      "[0.06037672609090805, 0.8540688157081604]\n",
      "dict_keys(['loss', 'accuracy', 'val_loss', 'val_accuracy'])\n"
     ]
    },
    {
     "data": {
      "image/png": "[encoded data removed]",
      "text/plain": [
       "<Figure size 432x288 with 1 Axes>"
      ]
     },
     "metadata": {
      "needs_background": "light"
     },
     "output_type": "display_data"
    },
    {
     "data": {
      "image/png": "[encoded data removed]",
      "text/plain": [
       "<Figure size 432x288 with 1 Axes>"
      ]
     },
     "metadata": {
      "needs_background": "light"
     },
     "output_type": "display_data"
    }
   ],
   "source": [
    "# 임베딩 레이어 변경\n",
    "tf.keras.regularizers.l2(l2=0.06)\n",
    "from keras.layers import Input, Dense, LSTM, Bidirectional\n",
    "vocab_size = 50000    # 어휘 사전의 크기입니다(10,000개의 단어)\n",
    "word_vector_dim = 500  # 워드 벡터의 차원수 (변경가능한 하이퍼파라미터)\n",
    "\n",
    "X_train = keras.preprocessing.sequence.pad_sequences(X_train,\n",
    "                                       value=word_to_index[\"<PAD>\"],\n",
    "                                                     padding='post', maxlen=maxlen)\n",
    "\n",
    "X_test = keras.preprocessing.sequence.pad_sequences(X_test,\n",
    "                                       value=word_to_index[\"<PAD>\"],\n",
    "                                       padding='post',\n",
    "                                       maxlen=maxlen)\n",
    "\n",
    "x_val = X_train[:40000]\n",
    "y_val = y_train[:40000]\n",
    "\n",
    "#validation set을 제외한 나머지는 train set으로 사용\n",
    "partial_x_train = X_train[40000:]\n",
    "partial_y_train = y_train[40000:]\n",
    "\n",
    "print(partial_x_train.shape)\n",
    "print(partial_y_train.shape)\n",
    "\n",
    "print(X_train.shape)\n",
    "\n",
    "# 모델 설계\n",
    "from tensorflow.keras.initializers import Constant\n",
    "\n",
    "vocab_size = 10000    # 어휘 사전의 크기입니다(10,000개의 단어)\n",
    "word_vector_dim = 200  # 워드 벡터의 차원수 (변경가능한 하이퍼파라미터)\n",
    "\n",
    "# 모델 구성\n",
    "model = keras.Sequential()\n",
    "model.add(keras.layers.Embedding(vocab_size, \n",
    "                                 word_vector_dim, \n",
    "                                 embeddings_initializer=Constant(embedding_matrix), \n",
    "                                 # 카피한 임베딩을 여기서 활용!!!\n",
    "                                 input_length=maxlen, \n",
    "                                 trainable=True))   \n",
    "# trainable을 True로 주면 Fine-tuning\n",
    "#임베딩 레이어 다음에 LSTM 레이어가 오는 경우에는 임베딩 레이어에 input_length 인자를 따로 설정할 필요는 없습니다. \n",
    "model.add(keras.layers.Bidirectional(LSTM(64, return_sequences=True)))\n",
    "model.add(keras.layers.Bidirectional(LSTM(32, return_sequences=True)))\n",
    "model.add(keras.layers.Bidirectional(LSTM(16, return_sequences=True)))\n",
    "model.add(keras.layers.Dense(8, activation='relu',kernel_regularizer='l2'))\n",
    "model.add(keras.layers.Dense(1, activation='sigmoid'))\n",
    "\n",
    "model.summary()\n",
    "\n",
    "# 모델 학습\n",
    "model.compile(optimizer='adam',\n",
    "              loss='MeanSquaredLogarithmicError',\n",
    "              metrics=['accuracy'])\n",
    "\n",
    "epochs=17\n",
    "\n",
    "patial_x_train = np.asarray(partial_x_train)\n",
    "patial_y_train = np.asarray(partial_y_train)\n",
    "\n",
    "\n",
    "\n",
    "history = model.fit(X_train,\n",
    "                    y_train,\n",
    "                    epochs=epochs,\n",
    "                    batch_size=350,\n",
    "                    validation_data=(x_val, y_val),\n",
    "                    verbose=1)\n",
    "\n",
    "# 모델 평가\n",
    "results = model.evaluate(X_test,  y_test, verbose=2)\n",
    "\n",
    "print(results)\n",
    "\n",
    "# 모델의 fitting 과정 중의 정보들이 history 변수에 저장\n",
    "history_dict = history.history\n",
    "print(history_dict.keys()) # epoch에 따른 그래프를 그려볼 수 있는 항목들\n",
    "\n",
    "# 도식화 Training and Validation loss\n",
    "import matplotlib.pyplot as plt\n",
    "\n",
    "acc = history_dict['accuracy']\n",
    "val_acc = history_dict['val_accuracy']\n",
    "loss = history_dict['loss']\n",
    "val_loss = history_dict['val_loss']\n",
    "\n",
    "epochs = range(1, len(acc) + 1)\n",
    "\n",
    "# \"bo\"는 \"파란색 점\"입니다\n",
    "plt.plot(epochs, loss, 'bo', label='Training loss')\n",
    "# b는 \"파란 실선\"입니다\n",
    "plt.plot(epochs, val_loss, 'b', label='Validation loss')\n",
    "plt.title('Training and validation loss')\n",
    "plt.xlabel('Epochs')\n",
    "plt.ylabel('Loss')\n",
    "plt.legend()\n",
    "\n",
    "plt.show()\n",
    "\n",
    "# Training and Validation accuracy\n",
    "plt.clf()   # 그림을 초기화합니다\n",
    "\n",
    "plt.plot(epochs, acc, 'bo', label='Training acc')\n",
    "plt.plot(epochs, val_acc, 'b', label='Validation acc')\n",
    "plt.title('Training and validation accuracy')\n",
    "plt.xlabel('Epochs')\n",
    "plt.ylabel('Accuracy')\n",
    "plt.legend()\n",
    "\n",
    "plt.show()"
   ]
  },
  {
   "cell_type": "markdown",
   "id": "1ebacfb3",
   "metadata": {},
   "source": [
    "# epoch 14 부터 일치하게 된다. \n",
    "# LSTM 3층으로 stack 하였다\n",
    "## L2 수치를 조정하며(0.06) 더욱 이격을 줄어들게 하였다 "
   ]
  },
  {
   "cell_type": "markdown",
   "id": "ebf0bdba",
   "metadata": {},
   "source": [
    "# GRU, relu 스택 레이어 사용한 모델(아래)\n"
   ]
  },
  {
   "cell_type": "code",
   "execution_count": null,
   "id": "e002dc1c",
   "metadata": {},
   "outputs": [],
   "source": [
    "#어휘 사전의 크기(10,000개의 단어)\n",
    "vocab_size = 10000    \n",
    "\n",
    "#단어 하나를 표현하는 임베딩 벡터의 차원수(변경가능)\n",
    "word_vector_dim = 200\n",
    "\n",
    "#GlobalMaxPooling1D레이어 하나만 사용한 모델\n",
    "model = keras.Sequential()\n",
    "#model.add(keras.layers.Embedding(vocab_size, word_vector_dim, input_shape=(None,)))\n",
    "model.add(keras.layers.Embedding(vocab_size, \n",
    "                                 word_vector_dim, \n",
    "                                 embeddings_initializer=Constant(embedding_matrix),\n",
    "                                 # 카피한 임베딩을 여기서 활용!!! 차원늘리는거인듯 \n",
    "                                 input_length=maxlen, \n",
    "                                 trainable=True))\n",
    "\n",
    "model.add(tf.keras.layers.GRU(128, return_sequences=True)) \n",
    "model.add(tf.keras.layers.GRU(64, return_sequences=True)) \n",
    "\n",
    "model.add(keras.layers.Dense(8, activation='relu'))\n",
    "model.add(keras.layers.Dense(1, activation='sigmoid'))  #최종 출력은 긍정/부정을 나타내는 1dim\n",
    "\n",
    "model.summary()"
   ]
  },
  {
   "cell_type": "code",
   "execution_count": null,
   "id": "aa41cfcb",
   "metadata": {},
   "outputs": [],
   "source": [
    "#GlobalMaxPooling1D레이어 하나만 사용한 모델 학습\n",
    "model.compile(optimizer='adam',\n",
    "             loss='binary_crossentropy',\n",
    "             metrics=['accuracy'])\n",
    "            \n",
    "epochs=5\n",
    "\n",
    "history = model.fit(partial_x_train,\n",
    "                   partial_y_train,\n",
    "                   epochs=epochs,\n",
    "                   batch_size=512,\n",
    "                   validation_data=(x_val, y_val),\n",
    "                   verbose=1)"
   ]
  },
  {
   "cell_type": "code",
   "execution_count": 116,
   "id": "d2f84ac1",
   "metadata": {},
   "outputs": [
    {
     "name": "stdout",
     "output_type": "stream",
     "text": [
      "1537/1537 - 3s - loss: 0.3430 - accuracy: 0.8551\n",
      "[0.3429652452468872, 0.8551172614097595]\n"
     ]
    }
   ],
   "source": [
    "results = model.evaluate(X_test,  y_test, verbose=2)\n",
    "print(results)"
   ]
  },
  {
   "cell_type": "code",
   "execution_count": 117,
   "id": "15081540",
   "metadata": {},
   "outputs": [
    {
     "data": {
      "image/png": "[encoded data removed]",
      "text/plain": [
       "<Figure size 576x288 with 2 Axes>"
      ]
     },
     "metadata": {
      "needs_background": "light"
     },
     "output_type": "display_data"
    }
   ],
   "source": [
    "#Loss, Accuracy 그래프 시각화\n",
    "\n",
    "history_dict = history.history\n",
    "acc = history_dict['accuracy']\n",
    "val_acc = history_dict['val_accuracy']\n",
    "loss = history_dict['loss']\n",
    "val_loss = history_dict['val_loss']\n",
    "\n",
    "epochs = range(1, len(acc) + 1)\n",
    "\n",
    "# Accuracy 그래프\n",
    "plt.figure(figsize=(8, 4))\n",
    "plt.subplot(1, 2, 1)\n",
    "plt.plot(epochs, acc, label='Training Accuracy')\n",
    "plt.plot(epochs, val_acc, label='Validation Accuracy')\n",
    "plt.legend(loc='lower right')\n",
    "plt.title('Training and Validation Accuracy')\n",
    "\n",
    "# Loss 그래프\n",
    "plt.subplot(1, 2, 2)\n",
    "plt.plot(epochs, loss, label='Training Loss')\n",
    "plt.plot(epochs, val_loss, label='Validation Loss')\n",
    "plt.legend(loc='upper right')\n",
    "plt.title('Training and Validation Loss')\n",
    "plt.show()\n"
   ]
  },
  {
   "cell_type": "markdown",
   "id": "993315f8",
   "metadata": {},
   "source": [
    "### validation loss의 그래프가 train loss와의 이격이 발생하게 되면 더이상의 트레이닝은 무의미해진다\n",
    "\n",
    "# 밑은 활성화함수 GELU 를 이용한 모델\n"
   ]
  },
  {
   "cell_type": "code",
   "execution_count": 75,
   "id": "628e3020",
   "metadata": {},
   "outputs": [
    {
     "name": "stdout",
     "output_type": "stream",
     "text": [
      "Model: \"sequential_17\"\n",
      "_________________________________________________________________\n",
      "Layer (type)                 Output Shape              Param #   \n",
      "=================================================================\n",
      "embedding_16 (Embedding)     (None, None, 16)          160000    \n",
      "_________________________________________________________________\n",
      "global_max_pooling1d_6 (Glob (None, 16)                0         \n",
      "_________________________________________________________________\n",
      "dense_32 (Dense)             (None, 8)                 136       \n",
      "_________________________________________________________________\n",
      "dense_33 (Dense)             (None, 1)                 9         \n",
      "=================================================================\n",
      "Total params: 160,145\n",
      "Trainable params: 160,145\n",
      "Non-trainable params: 0\n",
      "_________________________________________________________________\n"
     ]
    }
   ],
   "source": [
    "#어휘 사전의 크기(10,000개의 단어)\n",
    "vocab_size = 10000    \n",
    "\n",
    "#단어 하나를 표현하는 임베딩 벡터의 차원수(변경가능)\n",
    "word_vector_dim = 16  \n",
    "\n",
    "#GlobalMaxPooling1D레이어 하나만 사용한 모델\n",
    "model = keras.Sequential()\n",
    "model.add(keras.layers.Embedding(vocab_size, word_vector_dim, input_shape=(None,)))\n",
    "model.add(keras.layers.GlobalMaxPooling1D())\n",
    "model.add(keras.layers.Dense(8, activation='ELU'))\n",
    "model.add(keras.layers.Dense(1, activation='sigmoid'))  #최종 출력은 긍정/부정을 나타내는 1dim\n",
    "\n",
    "model.summary()"
   ]
  },
  {
   "cell_type": "code",
   "execution_count": 76,
   "id": "8a27ddef",
   "metadata": {},
   "outputs": [
    {
     "name": "stdout",
     "output_type": "stream",
     "text": [
      "Epoch 1/5\n",
      "208/208 [==============================] - 1s 4ms/step - loss: 0.5994 - accuracy: 0.7311 - val_loss: 0.4520 - val_accuracy: 0.8021\n",
      "Epoch 2/5\n",
      "208/208 [==============================] - 1s 4ms/step - loss: 0.3899 - accuracy: 0.8313 - val_loss: 0.3689 - val_accuracy: 0.8366\n",
      "Epoch 3/5\n",
      "208/208 [==============================] - 1s 4ms/step - loss: 0.3322 - accuracy: 0.8591 - val_loss: 0.3551 - val_accuracy: 0.8439\n",
      "Epoch 4/5\n",
      "208/208 [==============================] - 1s 4ms/step - loss: 0.3018 - accuracy: 0.8741 - val_loss: 0.3535 - val_accuracy: 0.8464\n",
      "Epoch 5/5\n",
      "208/208 [==============================] - 1s 4ms/step - loss: 0.2796 - accuracy: 0.8849 - val_loss: 0.3576 - val_accuracy: 0.8466\n"
     ]
    }
   ],
   "source": [
    "#GlobalMaxPooling1D레이어 하나만 사용한 모델 학습\n",
    "model.compile(optimizer='adam',\n",
    "             loss='binary_crossentropy',\n",
    "             metrics=['accuracy'])\n",
    "            \n",
    "epochs=5\n",
    "\n",
    "history = model.fit(partial_x_train,\n",
    "                   partial_y_train,\n",
    "                   epochs=epochs,\n",
    "                   batch_size=512,\n",
    "                   validation_data=(x_val, y_val),\n",
    "                   verbose=1)"
   ]
  },
  {
   "cell_type": "code",
   "execution_count": 77,
   "id": "ea4ee08a",
   "metadata": {},
   "outputs": [
    {
     "name": "stdout",
     "output_type": "stream",
     "text": [
      "1537/1537 - 2s - loss: 0.3654 - accuracy: 0.8429\n",
      "[0.3654142916202545, 0.842870831489563]\n"
     ]
    }
   ],
   "source": [
    "results = model.evaluate(X_test,  y_test, verbose=2)\n",
    "print(results)"
   ]
  },
  {
   "cell_type": "code",
   "execution_count": 78,
   "id": "94f70966",
   "metadata": {},
   "outputs": [
    {
     "data": {
      "image/png": "[encoded data removed]",
      "text/plain": [
       "<Figure size 576x288 with 2 Axes>"
      ]
     },
     "metadata": {
      "needs_background": "light"
     },
     "output_type": "display_data"
    }
   ],
   "source": [
    "#Loss, Accuracy 그래프 시각화\n",
    "\n",
    "history_dict = history.history\n",
    "acc = history_dict['accuracy']\n",
    "val_acc = history_dict['val_accuracy']\n",
    "loss = history_dict['loss']\n",
    "val_loss = history_dict['val_loss']\n",
    "\n",
    "epochs = range(1, len(acc) + 1)\n",
    "\n",
    "# Accuracy 그래프\n",
    "plt.figure(figsize=(8, 4))\n",
    "plt.subplot(1, 2, 1)\n",
    "plt.plot(epochs, acc, label='Training Accuracy')\n",
    "plt.plot(epochs, val_acc, label='Validation Accuracy')\n",
    "plt.legend(loc='lower right')\n",
    "plt.title('Training and Validation Accuracy')\n",
    "\n",
    "# Loss 그래프\n",
    "plt.subplot(1, 2, 2)\n",
    "plt.plot(epochs, loss, label='Training Loss')\n",
    "plt.plot(epochs, val_loss, label='Validation Loss')\n",
    "plt.legend(loc='upper right')\n",
    "plt.title('Training and Validation Loss')\n",
    "plt.show()"
   ]
  },
  {
   "cell_type": "code",
   "execution_count": 79,
   "id": "319fce6c",
   "metadata": {},
   "outputs": [
    {
     "name": "stdout",
     "output_type": "stream",
     "text": [
      "Model: \"sequential_18\"\n",
      "_________________________________________________________________\n",
      "Layer (type)                 Output Shape              Param #   \n",
      "=================================================================\n",
      "embedding_17 (Embedding)     (None, None, 16)          160000    \n",
      "_________________________________________________________________\n",
      "global_max_pooling1d_7 (Glob (None, 16)                0         \n",
      "_________________________________________________________________\n",
      "dense_34 (Dense)             (None, 8)                 136       \n",
      "_________________________________________________________________\n",
      "dense_35 (Dense)             (None, 8)                 72        \n",
      "_________________________________________________________________\n",
      "dense_36 (Dense)             (None, 1)                 9         \n",
      "=================================================================\n",
      "Total params: 160,217\n",
      "Trainable params: 160,217\n",
      "Non-trainable params: 0\n",
      "_________________________________________________________________\n"
     ]
    }
   ],
   "source": [
    "#어휘 사전의 크기(10,000개의 단어)\n",
    "vocab_size = 10000    \n",
    "\n",
    "#단어 하나를 표현하는 임베딩 벡터의 차원수(변경가능)\n",
    "word_vector_dim = 16  \n",
    "\n",
    "#GlobalMaxPooling1D레이어 하나만 사용한 모델\n",
    "model = keras.Sequential()\n",
    "model.add(keras.layers.Embedding(vocab_size, word_vector_dim, input_shape=(None,)))\n",
    "model.add(keras.layers.GlobalMaxPooling1D())\n",
    "model.add(keras.layers.Dense(8, activation='ELU',kernel_regularizer='l2'))\n",
    "\n",
    "model.add(keras.layers.Dense(8, activation='ELU',kernel_regularizer='l1'))\n",
    "model.add(keras.layers.Dense(1, activation='sigmoid'))  #최종 출력은 긍정/부정을 나타내는 1dim\n",
    "\n",
    "model.summary()"
   ]
  },
  {
   "cell_type": "code",
   "execution_count": 80,
   "id": "fb4062c3",
   "metadata": {},
   "outputs": [
    {
     "name": "stdout",
     "output_type": "stream",
     "text": [
      "Epoch 1/5\n",
      "208/208 [==============================] - 1s 4ms/step - loss: 0.5423 - accuracy: 0.7587 - val_loss: 0.3850 - val_accuracy: 0.8295\n",
      "Epoch 2/5\n",
      "208/208 [==============================] - 1s 4ms/step - loss: 0.3496 - accuracy: 0.8491 - val_loss: 0.3547 - val_accuracy: 0.8441\n",
      "Epoch 3/5\n",
      "208/208 [==============================] - 1s 4ms/step - loss: 0.3044 - accuracy: 0.8732 - val_loss: 0.3531 - val_accuracy: 0.8471\n",
      "Epoch 4/5\n",
      "208/208 [==============================] - 1s 4ms/step - loss: 0.2746 - accuracy: 0.8880 - val_loss: 0.3612 - val_accuracy: 0.8472\n",
      "Epoch 5/5\n",
      "208/208 [==============================] - 1s 4ms/step - loss: 0.2512 - accuracy: 0.9002 - val_loss: 0.3756 - val_accuracy: 0.8439\n"
     ]
    }
   ],
   "source": [
    "#GlobalMaxPooling1D레이어 하나만 사용한 모델 학습\n",
    "model.compile(optimizer='adam',\n",
    "             loss='binary_crossentropy',\n",
    "             metrics=['accuracy'])\n",
    "            \n",
    "epochs=5\n",
    "\n",
    "history = model.fit(partial_x_train,\n",
    "                   partial_y_train,\n",
    "                   epochs=epochs,\n",
    "                   batch_size=512,\n",
    "                   validation_data=(x_val, y_val),\n",
    "                   verbose=1)"
   ]
  },
  {
   "cell_type": "code",
   "execution_count": 81,
   "id": "21958be4",
   "metadata": {},
   "outputs": [
    {
     "name": "stdout",
     "output_type": "stream",
     "text": [
      "1537/1537 - 2s - loss: 0.3839 - accuracy: 0.8409\n",
      "[0.38390836119651794, 0.8409178853034973]\n"
     ]
    }
   ],
   "source": [
    "results = model.evaluate(X_test,  y_test, verbose=2)\n",
    "print(results)"
   ]
  },
  {
   "cell_type": "code",
   "execution_count": 82,
   "id": "ff33028a",
   "metadata": {},
   "outputs": [
    {
     "data": {
      "image/png": "[encoded data removed]",
      "text/plain": [
       "<Figure size 576x288 with 2 Axes>"
      ]
     },
     "metadata": {
      "needs_background": "light"
     },
     "output_type": "display_data"
    }
   ],
   "source": [
    "#Loss, Accuracy 그래프 시각화\n",
    "\n",
    "history_dict = history.history\n",
    "acc = history_dict['accuracy']\n",
    "val_acc = history_dict['val_accuracy']\n",
    "loss = history_dict['loss']\n",
    "val_loss = history_dict['val_loss']\n",
    "\n",
    "epochs = range(1, len(acc) + 1)\n",
    "\n",
    "# Accuracy 그래프\n",
    "plt.figure(figsize=(8, 4))\n",
    "plt.subplot(1, 2, 1)\n",
    "plt.plot(epochs, acc, label='Training Accuracy')\n",
    "plt.plot(epochs, val_acc, label='Validation Accuracy')\n",
    "plt.legend(loc='lower right')\n",
    "plt.title('Training and Validation Accuracy')\n",
    "\n",
    "# Loss 그래프\n",
    "plt.subplot(1, 2, 2)\n",
    "plt.plot(epochs, loss, label='Training Loss')\n",
    "plt.plot(epochs, val_loss, label='Validation Loss')\n",
    "plt.legend(loc='upper right')\n",
    "plt.title('Training and Validation Loss')\n",
    "plt.show()"
   ]
  },
  {
   "cell_type": "code",
   "execution_count": null,
   "id": "88d1b6d0",
   "metadata": {},
   "outputs": [],
   "source": []
  },
  {
   "cell_type": "code",
   "execution_count": null,
   "id": "3f73c96a",
   "metadata": {},
   "outputs": [],
   "source": []
  }
 ],
 "metadata": {
  "kernelspec": {
   "display_name": "Python 3 (ipykernel)",
   "language": "python",
   "name": "python3"
  },
  "language_info": {
   "codemirror_mode": {
    "name": "ipython",
    "version": 3
   },
   "file_extension": ".py",
   "mimetype": "text/x-python",
   "name": "python",
   "nbconvert_exporter": "python",
   "pygments_lexer": "ipython3",
   "version": "3.9.7"
  }
 },
 "nbformat": 4,
 "nbformat_minor": 5
}
